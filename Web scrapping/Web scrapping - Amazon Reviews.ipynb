{
 "cells": [
  {
   "cell_type": "markdown",
   "metadata": {},
   "source": [
    "# Web Scraping - Amazon reviews"
   ]
  },
  {
   "cell_type": "markdown",
   "metadata": {},
   "source": [
    "scrapping the reviews of ipad 7"
   ]
  },
  {
   "cell_type": "code",
   "execution_count": 1,
   "metadata": {},
   "outputs": [],
   "source": [
    "import pandas as pd\n",
    "#pip install beautifulsoup4\n",
    "from bs4 import BeautifulSoup\n",
    "import requests\n",
    "import re\n",
    "from tqdm import tqdm_notebook"
   ]
  },
  {
   "cell_type": "code",
   "execution_count": 2,
   "metadata": {},
   "outputs": [],
   "source": [
    "source = requests.get('https://www.amazon.in/Apple-iPad-Wi-Fi-32GB-Previous/product-reviews/B07C53VXH8/ref=cm_cr_arp_d_paging_btm_next_2?ie=UTF8&reviewerType=all_reviews&pageNumber=1').text\n",
    "soup = BeautifulSoup(source, 'lxml')"
   ]
  },
  {
   "cell_type": "code",
   "execution_count": 3,
   "metadata": {},
   "outputs": [],
   "source": [
    "#print(soup.prettify())"
   ]
  },
  {
   "cell_type": "code",
   "execution_count": 53,
   "metadata": {},
   "outputs": [],
   "source": [
    "rating=[]\n",
    "reviews=[]\n",
    "profile_name=[]\n",
    "date=[]"
   ]
  },
  {
   "cell_type": "code",
   "execution_count": 54,
   "metadata": {},
   "outputs": [],
   "source": [
    "def get_profile_name(soup):\n",
    "    profile_name_text=soup.find_all(class_=\"a-profile-name\")\n",
    "    pn = []\n",
    "    for w in profile_name_text:\n",
    "        pn.append(w.text)\n",
    "    for i in range(2,12):\n",
    "        try:\n",
    "            #print(pn[i])\n",
    "            profile_name.append(pn[i])\n",
    "        except:\n",
    "            continue\n",
    "\n",
    "def get_review(soup):\n",
    "    review_text=soup.find_all(class_=\"a-size-base review-text review-text-content\")\n",
    "    for x in review_text:\n",
    "        x = x.text.replace('\\n','')\n",
    "        reviews.append(x)\n",
    "        \n",
    "def get_date(soup):\n",
    "    date_text=soup.find_all(class_=\"a-size-base a-color-secondary review-date\")\n",
    "    for y in date_text:\n",
    "        date.append(y.text)\n",
    "        \n",
    "\n",
    "def get_star(soup):\n",
    "    star_text=soup.find_all(class_=\"a-icon-alt\")\n",
    "    rt=[]\n",
    "    for z in star_text:\n",
    "        rt.append(z.text)\n",
    "    for i in range(3,13):\n",
    "        try:\n",
    "            #print(rt[i])\n",
    "            rating.append(rt[i])\n",
    "        except:\n",
    "            continue       "
   ]
  },
  {
   "cell_type": "code",
   "execution_count": 55,
   "metadata": {},
   "outputs": [
    {
     "data": {
      "application/vnd.jupyter.widget-view+json": {
       "model_id": "860fe0bd45104ca9833d88b80ee57b03",
       "version_major": 2,
       "version_minor": 0
      },
      "text/plain": [
       "HBox(children=(IntProgress(value=0, max=19), HTML(value='')))"
      ]
     },
     "metadata": {},
     "output_type": "display_data"
    },
    {
     "name": "stdout",
     "output_type": "stream",
     "text": [
      "\n"
     ]
    }
   ],
   "source": [
    "for i in tqdm_notebook(range(1,20)):\n",
    "    url=\"https://www.amazon.in/Apple-iPad-Wi-Fi-32GB-Previous/product-reviews/B07C53VXH8/ref=cm_cr_arp_d_paging_btm_next_2?ie=UTF8&reviewerType=all_reviews&pageNumber={}\".format(i)\n",
    "    #url=\"https://www.amazon.in/product-reviews/B0784BZ5VY/ref=cm_cr_getr_d_show_all?ie=UTF8&reviewerType=all_reviews&pageNumber={}\".format(i)\n",
    "    source=requests.get(url)\n",
    "    soup=BeautifulSoup(source.text,\"lxml\")\n",
    "    get_review(soup)\n",
    "    get_profile_name(soup)\n",
    "    get_date(soup)\n",
    "    get_star(soup)\n",
    "\n",
    "final=[]\n",
    "for k,l,m,n in zip(reviews,date,rating,profile_name): #Skipping some \n",
    "    final.append({\"date\":l,\"profile_name\":n,\"review\":k,\"rating\":m[:3]})\n",
    "df=pd.DataFrame(final)"
   ]
  },
  {
   "cell_type": "code",
   "execution_count": 56,
   "metadata": {},
   "outputs": [
    {
     "name": "stdout",
     "output_type": "stream",
     "text": [
      "https://www.amazon.in/Apple-iPad-Wi-Fi-32GB-Previous/product-reviews/B07C53VXH8/ref=cm_cr_arp_d_paging_btm_next_2?ie=UTF8&reviewerType=all_reviews&pageNumber=19\n"
     ]
    }
   ],
   "source": [
    "print(url)"
   ]
  },
  {
   "cell_type": "code",
   "execution_count": 57,
   "metadata": {},
   "outputs": [
    {
     "data": {
      "text/html": [
       "<div>\n",
       "<style scoped>\n",
       "    .dataframe tbody tr th:only-of-type {\n",
       "        vertical-align: middle;\n",
       "    }\n",
       "\n",
       "    .dataframe tbody tr th {\n",
       "        vertical-align: top;\n",
       "    }\n",
       "\n",
       "    .dataframe thead th {\n",
       "        text-align: right;\n",
       "    }\n",
       "</style>\n",
       "<table border=\"1\" class=\"dataframe\">\n",
       "  <thead>\n",
       "    <tr style=\"text-align: right;\">\n",
       "      <th></th>\n",
       "      <th>date</th>\n",
       "      <th>profile_name</th>\n",
       "      <th>review</th>\n",
       "      <th>rating</th>\n",
       "    </tr>\n",
       "  </thead>\n",
       "  <tbody>\n",
       "    <tr>\n",
       "      <td>150</td>\n",
       "      <td>24 October 2019</td>\n",
       "      <td>Pushp Bariha</td>\n",
       "      <td>this is good</td>\n",
       "      <td>3.0</td>\n",
       "    </tr>\n",
       "    <tr>\n",
       "      <td>151</td>\n",
       "      <td>2 November 2018</td>\n",
       "      <td>Varun</td>\n",
       "      <td>Sound is too low through speakers.</td>\n",
       "      <td>5.0</td>\n",
       "    </tr>\n",
       "    <tr>\n",
       "      <td>152</td>\n",
       "      <td>1 November 2019</td>\n",
       "      <td>Nitesh</td>\n",
       "      <td>Low speaker volumeBattery backup is average</td>\n",
       "      <td>4.0</td>\n",
       "    </tr>\n",
       "    <tr>\n",
       "      <td>153</td>\n",
       "      <td>4 September 2019</td>\n",
       "      <td>Kumar Rakesh</td>\n",
       "      <td>Happy with this product</td>\n",
       "      <td>4.0</td>\n",
       "    </tr>\n",
       "    <tr>\n",
       "      <td>154</td>\n",
       "      <td>11 April 2019</td>\n",
       "      <td>Ashish Kumar Pandey</td>\n",
       "      <td>Go for it, got in 17k in big billion day</td>\n",
       "      <td>5.0</td>\n",
       "    </tr>\n",
       "    <tr>\n",
       "      <td>155</td>\n",
       "      <td>2 December 2019</td>\n",
       "      <td>A V Raghavendra</td>\n",
       "      <td>It's an Apple for INDIAN BUDGET</td>\n",
       "      <td>5.0</td>\n",
       "    </tr>\n",
       "    <tr>\n",
       "      <td>156</td>\n",
       "      <td>16 August 2018</td>\n",
       "      <td>Surendra Singh Rajawat</td>\n",
       "      <td>Amazon given best product and timely delivery ...</td>\n",
       "      <td>5.0</td>\n",
       "    </tr>\n",
       "    <tr>\n",
       "      <td>157</td>\n",
       "      <td>15 October 2018</td>\n",
       "      <td>Amazon Customer</td>\n",
       "      <td>Excellent product from Apple</td>\n",
       "      <td>5.0</td>\n",
       "    </tr>\n",
       "    <tr>\n",
       "      <td>158</td>\n",
       "      <td>27 October 2019</td>\n",
       "      <td>sanju</td>\n",
       "      <td>gajab</td>\n",
       "      <td>5.0</td>\n",
       "    </tr>\n",
       "    <tr>\n",
       "      <td>159</td>\n",
       "      <td>14 May 2019</td>\n",
       "      <td>Harish</td>\n",
       "      <td>Good product</td>\n",
       "      <td>5.0</td>\n",
       "    </tr>\n",
       "  </tbody>\n",
       "</table>\n",
       "</div>"
      ],
      "text/plain": [
       "                 date            profile_name  \\\n",
       "150   24 October 2019            Pushp Bariha   \n",
       "151   2 November 2018                   Varun   \n",
       "152   1 November 2019                  Nitesh   \n",
       "153  4 September 2019            Kumar Rakesh   \n",
       "154     11 April 2019     Ashish Kumar Pandey   \n",
       "155   2 December 2019         A V Raghavendra   \n",
       "156    16 August 2018  Surendra Singh Rajawat   \n",
       "157   15 October 2018         Amazon Customer   \n",
       "158   27 October 2019                   sanju   \n",
       "159       14 May 2019                  Harish   \n",
       "\n",
       "                                                review rating  \n",
       "150                                       this is good    3.0  \n",
       "151                 Sound is too low through speakers.    5.0  \n",
       "152        Low speaker volumeBattery backup is average    4.0  \n",
       "153                            Happy with this product    4.0  \n",
       "154           Go for it, got in 17k in big billion day    5.0  \n",
       "155                    It's an Apple for INDIAN BUDGET    5.0  \n",
       "156  Amazon given best product and timely delivery ...    5.0  \n",
       "157                       Excellent product from Apple    5.0  \n",
       "158                                              gajab    5.0  \n",
       "159                                       Good product    5.0  "
      ]
     },
     "execution_count": 57,
     "metadata": {},
     "output_type": "execute_result"
    }
   ],
   "source": [
    "df.tail(10)"
   ]
  },
  {
   "cell_type": "markdown",
   "metadata": {},
   "source": [
    "---"
   ]
  },
  {
   "cell_type": "code",
   "execution_count": null,
   "metadata": {},
   "outputs": [],
   "source": []
  },
  {
   "cell_type": "code",
   "execution_count": null,
   "metadata": {},
   "outputs": [],
   "source": []
  },
  {
   "cell_type": "code",
   "execution_count": null,
   "metadata": {},
   "outputs": [],
   "source": []
  },
  {
   "cell_type": "raw",
   "metadata": {},
   "source": [
    "i = soup.find('div',class_=\"a-section a-spacing-none review-views celwidget\")"
   ]
  },
  {
   "cell_type": "raw",
   "metadata": {},
   "source": [
    "i.find('span',class_=\"a-profile-name\").text"
   ]
  },
  {
   "cell_type": "raw",
   "metadata": {},
   "source": [
    "i.find('span',class_=\"a-size-base review-text review-text-content\").text"
   ]
  },
  {
   "cell_type": "raw",
   "metadata": {},
   "source": [
    "i.find('span', class_=\"a-icon-alt\").text"
   ]
  }
 ],
 "metadata": {
  "kernelspec": {
   "display_name": "Python 3",
   "language": "python",
   "name": "python3"
  },
  "language_info": {
   "codemirror_mode": {
    "name": "ipython",
    "version": 3
   },
   "file_extension": ".py",
   "mimetype": "text/x-python",
   "name": "python",
   "nbconvert_exporter": "python",
   "pygments_lexer": "ipython3",
   "version": "3.7.4"
  }
 },
 "nbformat": 4,
 "nbformat_minor": 2
}
