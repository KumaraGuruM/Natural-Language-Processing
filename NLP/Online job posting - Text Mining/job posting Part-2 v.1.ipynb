{
 "cells": [
  {
   "cell_type": "markdown",
   "metadata": {},
   "source": [
    "# Part 2 "
   ]
  },
  {
   "cell_type": "markdown",
   "metadata": {},
   "source": [
    "- Topic Modelling\n",
    "- Information Extraction\n",
    "- Job Similarity\n",
    "- Overall Findings and recommendation"
   ]
  },
  {
   "cell_type": "markdown",
   "metadata": {},
   "source": [
    "Import the necessasry libraries"
   ]
  },
  {
   "cell_type": "code",
   "execution_count": 1,
   "metadata": {},
   "outputs": [],
   "source": [
    "import numpy as np\n",
    "import pandas as pd\n",
    "import seaborn as sns\n",
    "import pickle\n",
    "from matplotlib import pyplot as plt\n",
    "%matplotlib inline\n",
    "plt.rcParams['figure.figsize'] = 10, 7.5\n",
    "plt.rcParams['axes.grid'] = True\n",
    "from tqdm import tqdm_notebook\n",
    "from IPython.display import Markdown, display\n",
    "\n",
    "import re\n",
    "import nltk\n",
    "import spacy\n",
    "import gensim\n",
    "\n",
    "from nltk.corpus import stopwords\n",
    "from nltk.stem.porter import PorterStemmer\n",
    "from nltk.stem import WordNetLemmatizer\n",
    "from nltk.tokenize import word_tokenize\n",
    "from sklearn.feature_extraction.text import CountVectorizer,TfidfVectorizer\n",
    "\n",
    "from sklearn.metrics.pairwise import cosine_similarity\n",
    "from sklearn.model_selection  import train_test_split\n",
    "from sklearn.metrics import confusion_matrix, classification_report, accuracy_score, roc_auc_score, silhouette_score"
   ]
  },
  {
   "cell_type": "markdown",
   "metadata": {},
   "source": [
    "Import the corpus after data cleaning from the part 1."
   ]
  },
  {
   "cell_type": "code",
   "execution_count": 2,
   "metadata": {},
   "outputs": [],
   "source": [
    "data = pd.read_pickle(\"prepared_job_data.pkl\")"
   ]
  },
  {
   "cell_type": "code",
   "execution_count": 3,
   "metadata": {},
   "outputs": [],
   "source": [
    "data.drop(columns='Unnamed: 0',inplace=True)"
   ]
  },
  {
   "cell_type": "code",
   "execution_count": 4,
   "metadata": {},
   "outputs": [
    {
     "data": {
      "text/html": [
       "<div>\n",
       "<style scoped>\n",
       "    .dataframe tbody tr th:only-of-type {\n",
       "        vertical-align: middle;\n",
       "    }\n",
       "\n",
       "    .dataframe tbody tr th {\n",
       "        vertical-align: top;\n",
       "    }\n",
       "\n",
       "    .dataframe thead th {\n",
       "        text-align: right;\n",
       "    }\n",
       "</style>\n",
       "<table border=\"1\" class=\"dataframe\">\n",
       "  <thead>\n",
       "    <tr style=\"text-align: right;\">\n",
       "      <th></th>\n",
       "      <th>jobpost</th>\n",
       "      <th>Title</th>\n",
       "      <th>JobRequirment</th>\n",
       "      <th>JobDescription</th>\n",
       "      <th>RequiredQual</th>\n",
       "      <th>AboutC</th>\n",
       "      <th>IT</th>\n",
       "      <th>Year</th>\n",
       "    </tr>\n",
       "  </thead>\n",
       "  <tbody>\n",
       "    <tr>\n",
       "      <td>0</td>\n",
       "      <td>ameria investment consulting chief financial o...</td>\n",
       "      <td>chief financial officer</td>\n",
       "      <td>supervises financial management administrative...</td>\n",
       "      <td>ameria investment consulting seeking chief fin...</td>\n",
       "      <td>perform successfully individual must able perf...</td>\n",
       "      <td>mentor graphic development service cjsc subsid...</td>\n",
       "      <td>False</td>\n",
       "      <td>2004</td>\n",
       "    </tr>\n",
       "    <tr>\n",
       "      <td>1</td>\n",
       "      <td>international research exchange board irex ful...</td>\n",
       "      <td>full time community connection intern paid int...</td>\n",
       "      <td>participate design provide necessary technical...</td>\n",
       "      <td>incumbent work direct supervision president pr...</td>\n",
       "      <td>bachelor degree master preferred excellent ski...</td>\n",
       "      <td>international research exchange board irex u b...</td>\n",
       "      <td>False</td>\n",
       "      <td>2004</td>\n",
       "    </tr>\n",
       "  </tbody>\n",
       "</table>\n",
       "</div>"
      ],
      "text/plain": [
       "                                             jobpost  \\\n",
       "0  ameria investment consulting chief financial o...   \n",
       "1  international research exchange board irex ful...   \n",
       "\n",
       "                                               Title  \\\n",
       "0                            chief financial officer   \n",
       "1  full time community connection intern paid int...   \n",
       "\n",
       "                                       JobRequirment  \\\n",
       "0  supervises financial management administrative...   \n",
       "1  participate design provide necessary technical...   \n",
       "\n",
       "                                      JobDescription  \\\n",
       "0  ameria investment consulting seeking chief fin...   \n",
       "1  incumbent work direct supervision president pr...   \n",
       "\n",
       "                                        RequiredQual  \\\n",
       "0  perform successfully individual must able perf...   \n",
       "1  bachelor degree master preferred excellent ski...   \n",
       "\n",
       "                                              AboutC     IT  Year  \n",
       "0  mentor graphic development service cjsc subsid...  False  2004  \n",
       "1  international research exchange board irex u b...  False  2004  "
      ]
     },
     "execution_count": 4,
     "metadata": {},
     "output_type": "execute_result"
    }
   ],
   "source": [
    "data.head(2)"
   ]
  },
  {
   "cell_type": "markdown",
   "metadata": {},
   "source": [
    "### --------------------------------------------------------------------------------------------------------------------------------"
   ]
  },
  {
   "cell_type": "markdown",
   "metadata": {},
   "source": [
    "## Topic Modelling "
   ]
  },
  {
   "cell_type": "markdown",
   "metadata": {},
   "source": [
    "Determining the Nature of jobs over time"
   ]
  },
  {
   "cell_type": "markdown",
   "metadata": {},
   "source": [
    "- LDA model"
   ]
  },
  {
   "cell_type": "code",
   "execution_count": 5,
   "metadata": {},
   "outputs": [],
   "source": [
    "from gensim import corpora"
   ]
  },
  {
   "cell_type": "code",
   "execution_count": 6,
   "metadata": {},
   "outputs": [],
   "source": [
    "job_post_token = data.jobpost.map(word_tokenize)"
   ]
  },
  {
   "cell_type": "code",
   "execution_count": 7,
   "metadata": {},
   "outputs": [],
   "source": [
    "job_dict = corpora.Dictionary(job_post_token)\n",
    "job_dict.filter_extremes(no_below=3, no_above=0.7)"
   ]
  },
  {
   "cell_type": "code",
   "execution_count": 8,
   "metadata": {},
   "outputs": [],
   "source": [
    "dtm = [job_dict.doc2bow(d) for d in job_post_token]"
   ]
  },
  {
   "cell_type": "markdown",
   "metadata": {},
   "source": [
    "Model implementation"
   ]
  },
  {
   "cell_type": "raw",
   "metadata": {},
   "source": [
    "lda = gensim.models.ldamodel.LdaModel(dtm,num_topics=7,alpha='auto',chunksize=30,id2word=job_dict,passes=20)"
   ]
  },
  {
   "cell_type": "code",
   "execution_count": 9,
   "metadata": {},
   "outputs": [],
   "source": [
    "pkl_filename = \"lda.pkl\""
   ]
  },
  {
   "cell_type": "raw",
   "metadata": {},
   "source": [
    "# Saving as pickle\n",
    "with open(pkl_filename, 'wb') as file:\n",
    "    pickle.dump(lda, file)"
   ]
  },
  {
   "cell_type": "code",
   "execution_count": 10,
   "metadata": {},
   "outputs": [],
   "source": [
    "# Load from file\n",
    "with open(pkl_filename, 'rb') as file:\n",
    "    lda = pickle.load(file)"
   ]
  },
  {
   "cell_type": "code",
   "execution_count": 11,
   "metadata": {},
   "outputs": [],
   "source": [
    "topics  = lda.get_document_topics(dtm)"
   ]
  },
  {
   "cell_type": "code",
   "execution_count": 12,
   "metadata": {},
   "outputs": [
    {
     "data": {
      "text/plain": [
       "[(0,\n",
       "  '0.016*\"november\" + 0.015*\"course\" + 0.014*\"online\" + 0.014*\"http\" + 0.014*\"medium\" + 0.013*\"training\" + 0.012*\"form\" + 0.012*\"learning\" + 0.012*\"october\" + 0.010*\"expert\"'),\n",
       " (1,\n",
       "  '0.018*\"management\" + 0.017*\"ability\" + 0.012*\"manager\" + 0.011*\"business\" + 0.011*\"line\" + 0.010*\"ensure\" + 0.010*\"service\" + 0.010*\"marketing\" + 0.008*\"activity\" + 0.008*\"communication\"'),\n",
       " (2,\n",
       "  '0.025*\"interested\" + 0.023*\"term\" + 0.019*\"russian\" + 0.018*\"excellent\" + 0.017*\"responsible\" + 0.017*\"subject\" + 0.016*\"field\" + 0.016*\"duration\" + 0.015*\"good\" + 0.014*\"send\"'),\n",
       " (3,\n",
       "  '0.050*\"project\" + 0.024*\"development\" + 0.017*\"program\" + 0.013*\"support\" + 0.013*\"implementation\" + 0.011*\"activity\" + 0.010*\"community\" + 0.009*\"sector\" + 0.009*\"including\" + 0.009*\"international\"'),\n",
       " (4,\n",
       "  '0.022*\"development\" + 0.020*\"software\" + 0.017*\"team\" + 0.016*\"design\" + 0.014*\"customer\" + 0.012*\"sale\" + 0.012*\"system\" + 0.011*\"ability\" + 0.010*\"developer\" + 0.009*\"technical\"'),\n",
       " (5,\n",
       "  '0.029*\"financial\" + 0.026*\"legal\" + 0.022*\"accounting\" + 0.019*\"report\" + 0.014*\"prepare\" + 0.013*\"internal\" + 0.013*\"finance\" + 0.013*\"ra\" + 0.012*\"document\" + 0.012*\"branch\"'),\n",
       " (6,\n",
       "  '0.030*\"office\" + 0.024*\"administrative\" + 0.018*\"assistant\" + 0.012*\"call\" + 0.012*\"hotel\" + 0.012*\"task\" + 0.011*\"relevant\" + 0.011*\"meeting\" + 0.011*\"written\" + 0.010*\"event\"')]"
      ]
     },
     "execution_count": 12,
     "metadata": {},
     "output_type": "execute_result"
    }
   ],
   "source": [
    "lda.show_topics()"
   ]
  },
  {
   "cell_type": "markdown",
   "metadata": {},
   "source": [
    "From the above the lda out the following topics are found for job posts, <br>\n",
    "**Topic 0** : Education and Taining <br>\n",
    "**Topic 1** : Business management and Marketting <br>\n",
    "**Topic 2** : general <br>\n",
    "**Topic 3** : Project Management <br>\n",
    "**Topic 4** : Software development <br>\n",
    "**Topic 5** : Accounting and Finance <br>\n",
    "**Topic 6** : Event managing <br>"
   ]
  },
  {
   "cell_type": "code",
   "execution_count": 13,
   "metadata": {},
   "outputs": [],
   "source": [
    "topic_dict = {0:'Education_and_Taining', 1:'Business_management_and_Marketting', 2:'general', 3:'Project_Management',\n",
    "            4:'Software_development', 5:'Accounting_and_Finance', 6:'Event_managing'}"
   ]
  },
  {
   "cell_type": "markdown",
   "metadata": {},
   "source": [
    "Topic Frequencies"
   ]
  },
  {
   "cell_type": "code",
   "execution_count": 14,
   "metadata": {},
   "outputs": [],
   "source": [
    "from operator import itemgetter"
   ]
  },
  {
   "cell_type": "code",
   "execution_count": 15,
   "metadata": {},
   "outputs": [],
   "source": [
    "top = [max(t, key=itemgetter(1))[0] for t in topics]"
   ]
  },
  {
   "cell_type": "code",
   "execution_count": 16,
   "metadata": {},
   "outputs": [],
   "source": [
    "top = pd.Series(top)\n",
    "data['topic'] = top"
   ]
  },
  {
   "cell_type": "code",
   "execution_count": 17,
   "metadata": {},
   "outputs": [],
   "source": [
    "topic_name = pd.Series([topic_dict[i] for i in data.topic])"
   ]
  },
  {
   "cell_type": "code",
   "execution_count": 18,
   "metadata": {},
   "outputs": [],
   "source": [
    "top_year_data = pd.concat([data.topic, topic_name, data.Year], axis=1)"
   ]
  },
  {
   "cell_type": "code",
   "execution_count": 19,
   "metadata": {},
   "outputs": [],
   "source": [
    "top_year_data.columns = ['topic', 'topic_name', 'Year']"
   ]
  },
  {
   "cell_type": "code",
   "execution_count": 20,
   "metadata": {},
   "outputs": [],
   "source": [
    "df = top_year_data.groupby(['topic_name'], sort = False).count()"
   ]
  },
  {
   "cell_type": "code",
   "execution_count": 21,
   "metadata": {},
   "outputs": [
    {
     "data": {
      "text/plain": [
       "<Figure size 360x72 with 0 Axes>"
      ]
     },
     "metadata": {},
     "output_type": "display_data"
    },
    {
     "data": {
      "image/png": "[encoded data removed]",
      "text/plain": [
       "<Figure size 432x288 with 1 Axes>"
      ]
     },
     "metadata": {
      "needs_background": "light"
     },
     "output_type": "display_data"
    }
   ],
   "source": [
    "plt.figure(figsize=(5,1))\n",
    "df[['topic']].plot(kind='bar')\n",
    "plt.title('Topic Frequencies')\n",
    "plt.xticks(rotation=90)\n",
    "plt.show()"
   ]
  },
  {
   "cell_type": "markdown",
   "metadata": {},
   "source": [
    "From the plot it is noted that, <br>\n",
    "Topic 1 (**Business management and Marketting**) and Topic 4 (**Software development**)  maximum frequencies "
   ]
  },
  {
   "cell_type": "markdown",
   "metadata": {},
   "source": [
    "Visualization using the pyLDAvis"
   ]
  },
  {
   "cell_type": "code",
   "execution_count": 22,
   "metadata": {},
   "outputs": [],
   "source": [
    "import pyLDAvis\n",
    "import pyLDAvis.gensim"
   ]
  },
  {
   "cell_type": "code",
   "execution_count": 23,
   "metadata": {},
   "outputs": [],
   "source": [
    "corpora.MmCorpus.serialize('corpus.mm', dtm)"
   ]
  },
  {
   "cell_type": "code",
   "execution_count": 24,
   "metadata": {},
   "outputs": [],
   "source": [
    "corpus = gensim.corpora.MmCorpus('corpus.mm')"
   ]
  },
  {
   "cell_type": "raw",
   "metadata": {},
   "source": [
    "pd.options.display.max_colwidth = 5000\n",
    "vis_data = pyLDAvis.gensim.prepare(lda, corpus, job_dict, mds='tsne')\n",
    "pyLDAvis.display(vis_data)"
   ]
  },
  {
   "cell_type": "raw",
   "metadata": {},
   "source": [
    "# Saving it as html fil\n",
    "pyLDAvis.save_html(vis_data,'topic_visualization.html')"
   ]
  },
  {
   "cell_type": "code",
   "execution_count": 25,
   "metadata": {},
   "outputs": [],
   "source": [
    "from IPython.core.display import display, HTML"
   ]
  },
  {
   "cell_type": "code",
   "execution_count": 26,
   "metadata": {},
   "outputs": [
    {
     "data": {
      "text/html": [
       "\n",
       "<link rel=\"stylesheet\" type=\"text/css\" href=\"https://cdn.rawgit.com/bmabey/pyLDAvis/files/ldavis.v1.0.0.css\">\n",
       "\n",
       "\n",
       "<div id=\"ldavis_el265212878044886221102596\"></div>\n",
       "<script type=\"text/javascript\">\n",
       "\n",
       "var ldavis_el265212878044886221102596_data = {\"mdsDat\": {\"x\": [-29.59400177001953, -45.996585845947266, 20.36885643005371, 53.928768157958984, -12.437127113342285, 3.9659712314605713, 37.52428436279297], \"y\": [60.11271286010742, 11.891684532165527, 70.01932525634766, 31.704309463500977, -26.423267364501953, 21.797719955444336, -16.517805099487305], \"topics\": [1, 2, 3, 4, 5, 6, 7], \"cluster\": [1, 1, 1, 1, 1, 1, 1], \"Freq\": [25.806621551513672, 20.432613372802734, 15.493051528930664, 14.122106552124023, 10.669696807861328, 8.480477333068848, 4.99543571472168]}, \"tinfo\": {\"Category\": [\"Default\", \"Default\", \"Default\", \"Default\", \"Default\", \"Default\", \"Default\", \"Default\", \"Default\", \"Default\", \"Default\", \"Default\", \"Default\", \"Default\", \"Default\", \"Default\", \"Default\", \"Default\", \"Default\", \"Default\", \"Default\", \"Default\", \"Default\", \"Default\", \"Default\", \"Default\", \"Default\", \"Default\", \"Default\", \"Default\", \"Topic1\", \"Topic1\", \"Topic1\", \"Topic1\", \"Topic1\", \"Topic1\", \"Topic1\", \"Topic1\", \"Topic1\", \"Topic1\", \"Topic1\", \"Topic1\", \"Topic1\", \"Topic1\", \"Topic1\", \"Topic1\", \"Topic1\", \"Topic1\", \"Topic1\", \"Topic1\", \"Topic1\", \"Topic1\", \"Topic1\", \"Topic1\", \"Topic1\", \"Topic1\", \"Topic1\", \"Topic1\", \"Topic1\", \"Topic1\", \"Topic1\", \"Topic1\", \"Topic1\", \"Topic1\", \"Topic1\", \"Topic1\", \"Topic1\", \"Topic1\", \"Topic1\", \"Topic1\", \"Topic1\", \"Topic1\", \"Topic1\", \"Topic1\", \"Topic1\", \"Topic1\", \"Topic1\", \"Topic1\", \"Topic1\", \"Topic1\", \"Topic1\", \"Topic1\", \"Topic1\", \"Topic1\", \"Topic1\", \"Topic1\", \"Topic1\", \"Topic1\", \"Topic1\", \"Topic1\", \"Topic1\", \"Topic1\", \"Topic1\", \"Topic1\", \"Topic1\", \"Topic2\", \"Topic2\", \"Topic2\", \"Topic2\", \"Topic2\", \"Topic2\", \"Topic2\", \"Topic2\", \"Topic2\", \"Topic2\", \"Topic2\", \"Topic2\", \"Topic2\", \"Topic2\", \"Topic2\", \"Topic2\", \"Topic2\", \"Topic2\", \"Topic2\", \"Topic2\", \"Topic2\", \"Topic2\", \"Topic2\", \"Topic2\", \"Topic2\", \"Topic2\", \"Topic2\", \"Topic2\", \"Topic2\", \"Topic2\", \"Topic2\", \"Topic2\", \"Topic2\", \"Topic2\", \"Topic2\", \"Topic2\", \"Topic2\", \"Topic2\", \"Topic2\", \"Topic2\", \"Topic2\", \"Topic2\", \"Topic2\", \"Topic2\", \"Topic2\", \"Topic2\", \"Topic2\", \"Topic2\", \"Topic2\", \"Topic2\", \"Topic2\", \"Topic2\", \"Topic2\", \"Topic2\", \"Topic2\", \"Topic3\", \"Topic3\", \"Topic3\", \"Topic3\", \"Topic3\", \"Topic3\", \"Topic3\", \"Topic3\", \"Topic3\", \"Topic3\", \"Topic3\", \"Topic3\", \"Topic3\", \"Topic3\", \"Topic3\", \"Topic3\", \"Topic3\", \"Topic3\", \"Topic3\", \"Topic3\", \"Topic3\", \"Topic3\", \"Topic3\", \"Topic3\", \"Topic3\", \"Topic3\", \"Topic3\", \"Topic3\", \"Topic3\", \"Topic3\", \"Topic3\", \"Topic3\", \"Topic3\", \"Topic3\", \"Topic3\", \"Topic3\", \"Topic3\", \"Topic3\", \"Topic3\", \"Topic3\", \"Topic3\", \"Topic3\", \"Topic3\", \"Topic3\", \"Topic3\", \"Topic3\", \"Topic3\", \"Topic3\", \"Topic3\", \"Topic3\", \"Topic3\", \"Topic3\", \"Topic3\", \"Topic3\", \"Topic3\", \"Topic4\", \"Topic4\", \"Topic4\", \"Topic4\", \"Topic4\", \"Topic4\", \"Topic4\", \"Topic4\", \"Topic4\", \"Topic4\", \"Topic4\", \"Topic4\", \"Topic4\", \"Topic4\", \"Topic4\", \"Topic4\", \"Topic4\", \"Topic4\", \"Topic4\", \"Topic4\", \"Topic4\", \"Topic4\", \"Topic4\", \"Topic4\", \"Topic4\", \"Topic4\", \"Topic4\", \"Topic4\", \"Topic4\", \"Topic4\", \"Topic4\", \"Topic4\", \"Topic4\", \"Topic4\", \"Topic4\", \"Topic4\", \"Topic4\", \"Topic4\", \"Topic4\", \"Topic4\", \"Topic4\", \"Topic4\", \"Topic4\", \"Topic4\", \"Topic4\", \"Topic4\", \"Topic4\", \"Topic4\", \"Topic4\", \"Topic4\", \"Topic4\", \"Topic4\", \"Topic4\", \"Topic4\", \"Topic4\", \"Topic4\", \"Topic4\", \"Topic4\", \"Topic4\", \"Topic4\", \"Topic4\", \"Topic4\", \"Topic4\", \"Topic4\", \"Topic4\", \"Topic4\", \"Topic5\", \"Topic5\", \"Topic5\", \"Topic5\", \"Topic5\", \"Topic5\", \"Topic5\", \"Topic5\", \"Topic5\", \"Topic5\", \"Topic5\", \"Topic5\", \"Topic5\", \"Topic5\", \"Topic5\", \"Topic5\", \"Topic5\", \"Topic5\", \"Topic5\", \"Topic5\", \"Topic5\", \"Topic5\", \"Topic5\", \"Topic5\", \"Topic5\", \"Topic5\", \"Topic5\", \"Topic5\", \"Topic5\", \"Topic5\", \"Topic5\", \"Topic5\", \"Topic5\", \"Topic5\", \"Topic5\", \"Topic5\", \"Topic5\", \"Topic5\", \"Topic5\", \"Topic5\", \"Topic5\", \"Topic5\", \"Topic5\", \"Topic5\", \"Topic5\", \"Topic6\", \"Topic6\", \"Topic6\", \"Topic6\", \"Topic6\", \"Topic6\", \"Topic6\", \"Topic6\", \"Topic6\", \"Topic6\", \"Topic6\", \"Topic6\", \"Topic6\", \"Topic6\", \"Topic6\", \"Topic6\", \"Topic6\", \"Topic6\", \"Topic6\", \"Topic6\", \"Topic6\", \"Topic6\", \"Topic6\", \"Topic6\", \"Topic6\", \"Topic6\", \"Topic6\", \"Topic6\", \"Topic6\", \"Topic6\", \"Topic6\", \"Topic6\", \"Topic6\", \"Topic6\", \"Topic6\", \"Topic6\", \"Topic6\", \"Topic6\", \"Topic6\", \"Topic6\", \"Topic6\", \"Topic6\", \"Topic6\", \"Topic6\", \"Topic6\", \"Topic6\", \"Topic6\", \"Topic6\", \"Topic6\", \"Topic6\", \"Topic6\", \"Topic6\", \"Topic7\", \"Topic7\", \"Topic7\", \"Topic7\", \"Topic7\", \"Topic7\", \"Topic7\", \"Topic7\", \"Topic7\", \"Topic7\", \"Topic7\", \"Topic7\", \"Topic7\", \"Topic7\", \"Topic7\", \"Topic7\", \"Topic7\", \"Topic7\", \"Topic7\", \"Topic7\", \"Topic7\", \"Topic7\", \"Topic7\", \"Topic7\", \"Topic7\", \"Topic7\", \"Topic7\", \"Topic7\", \"Topic7\", \"Topic7\", \"Topic7\", \"Topic7\", \"Topic7\", \"Topic7\", \"Topic7\", \"Topic7\", \"Topic7\", \"Topic7\", \"Topic7\", \"Topic7\", \"Topic7\", \"Topic7\", \"Topic7\", \"Topic7\", \"Topic7\", \"Topic7\", \"Topic7\", \"Topic7\", \"Topic7\", \"Topic7\", \"Topic7\", \"Topic7\", \"Topic7\", \"Topic7\", \"Topic7\", \"Topic7\", \"Topic7\", \"Topic7\", \"Topic7\", \"Topic7\", \"Topic7\"], \"Freq\": [27949.0, 26476.0, 9529.0, 14279.0, 8410.0, 12748.0, 14107.0, 7095.0, 9676.0, 17587.0, 17339.0, 10779.0, 8707.0, 12501.0, 14571.0, 7755.0, 4353.0, 10397.0, 18587.0, 12780.0, 10871.0, 13764.0, 9725.0, 7831.0, 5746.0, 6362.0, 12042.0, 7669.0, 14077.0, 14965.0, 7668.52880859375, 6538.869140625, 6301.60400390625, 3860.67578125, 2809.3974609375, 2683.404296875, 2372.079345703125, 2203.1669921875, 2163.501220703125, 1625.865234375, 1533.093017578125, 1475.660888671875, 1472.5369873046875, 1350.3018798828125, 1278.3553466796875, 1213.8800048828125, 1202.5584716796875, 1172.3408203125, 1114.68115234375, 1104.3929443359375, 1104.2637939453125, 1097.407470703125, 1087.02685546875, 1060.935302734375, 1058.8385009765625, 1013.3573608398438, 957.961669921875, 948.9848022460938, 853.609619140625, 828.3519897460938, 3211.489013671875, 2862.900146484375, 9269.9296875, 4777.21875, 2551.255859375, 3355.580810546875, 5738.81982421875, 1738.0955810546875, 14451.73828125, 3804.030517578125, 8696.7158203125, 3407.75439453125, 2364.6650390625, 6105.603515625, 8008.44921875, 8540.1376953125, 3014.886474609375, 6137.564453125, 4084.850341796875, 13487.7724609375, 6627.92724609375, 5347.64208984375, 3901.842041015625, 6132.86279296875, 7996.41064453125, 4623.89453125, 6666.69140625, 5197.1171875, 6641.82177734375, 5913.14990234375, 5073.193359375, 6035.208984375, 4120.83203125, 4558.1669921875, 4016.43603515625, 8706.578125, 7754.60693359375, 5974.99755859375, 5576.5263671875, 5469.3466796875, 5389.2451171875, 3908.928955078125, 3559.369384765625, 2860.72119140625, 2858.896240234375, 2487.65771484375, 2280.9921875, 2219.9375, 2150.768798828125, 2171.6376953125, 2106.48681640625, 2049.48388671875, 1976.490478515625, 1902.7537841796875, 1859.84326171875, 1717.6051025390625, 1624.268310546875, 1538.7220458984375, 1447.3592529296875, 1506.4180908203125, 1369.1041259765625, 1299.5447998046875, 1237.9271240234375, 1195.9788818359375, 1134.4986572265625, 12321.2705078125, 9951.599609375, 5387.15966796875, 4471.26220703125, 4716.19140625, 3719.447265625, 3266.597900390625, 3952.042236328125, 10586.2314453125, 13667.02734375, 7713.92822265625, 5913.1689453125, 4151.0966796875, 2769.588134765625, 4396.36669921875, 5811.01025390625, 4110.81591796875, 6616.3525390625, 5442.53759765625, 4305.1484375, 3665.2783203125, 4544.6923828125, 3979.151123046875, 3787.864501953125, 3652.531494140625, 4954.42578125, 3795.575927734375, 3302.88134765625, 3290.15185546875, 2945.75244140625, 2828.251953125, 2827.948974609375, 2780.098876953125, 2743.5673828125, 2547.033935546875, 2536.493408203125, 2137.05029296875, 1895.9168701171875, 1800.0316162109375, 1624.1942138671875, 1612.806640625, 1557.7838134765625, 1267.0113525390625, 1197.33349609375, 1167.3802490234375, 1162.4473876953125, 1127.1202392578125, 1116.581787109375, 1118.212158203125, 1097.0830078125, 1086.0865478515625, 1100.7220458984375, 958.6416015625, 944.3458251953125, 931.4166259765625, 1001.6710205078125, 23728.61328125, 2904.3525390625, 2844.30126953125, 2924.50830078125, 4475.46435546875, 7906.27001953125, 2198.8486328125, 1289.978271484375, 6225.88134765625, 3817.785400390625, 11477.05078125, 2585.11376953125, 6272.9990234375, 2154.70703125, 5299.828125, 3126.4833984375, 4105.5009765625, 4132.1845703125, 2767.1748046875, 3274.4482421875, 3371.903076171875, 2746.18212890625, 2877.625732421875, 2782.23046875, 3369.298583984375, 2924.242431640625, 2647.16015625, 2466.507568359375, 2029.2667236328125, 1680.3551025390625, 1574.6063232421875, 1555.0069580078125, 1391.71728515625, 1393.3228759765625, 1196.44384765625, 1142.9449462890625, 1105.1661376953125, 1093.5689697265625, 1075.048095703125, 943.2329711914062, 877.1409912109375, 872.4067993164062, 777.0748291015625, 750.4854125976562, 726.8501586914062, 699.418701171875, 697.8323974609375, 686.4951782226562, 689.13232421875, 684.53466796875, 670.998779296875, 676.442626953125, 672.4185180664062, 665.0361938476562, 3328.052001953125, 3826.833251953125, 5484.2099609375, 3945.750732421875, 1012.708984375, 8252.5927734375, 6032.431640625, 10603.12109375, 4164.1240234375, 2670.776123046875, 6139.04638671875, 3703.933349609375, 9786.6171875, 7106.73046875, 6898.30517578125, 5111.03955078125, 7443.1806640625, 5879.61572265625, 4940.6484375, 7558.8076171875, 7216.14892578125, 5029.71533203125, 4561.27978515625, 4471.42626953125, 4286.2255859375, 3575.19873046875, 4760.75, 6475.47314453125, 3876.12451171875, 4784.6083984375, 4050.38037109375, 4439.921875, 3935.85791015625, 4174.52880859375, 3836.635986328125, 3897.25537109375, 9528.791015625, 8410.1708984375, 7094.88525390625, 4356.9833984375, 4214.72265625, 3383.673095703125, 3244.256591796875, 2819.3408203125, 2785.38720703125, 2565.92529296875, 2218.19970703125, 2165.615234375, 2025.80078125, 1892.468994140625, 1848.0650634765625, 1744.7686767578125, 1745.2244873046875, 1459.546142578125, 1371.28369140625, 1344.302978515625, 1092.319580078125, 1044.885009765625, 1044.5970458984375, 981.2824096679688, 858.4072875976562, 858.4520263671875, 842.7645263671875, 751.5809936523438, 741.8699951171875, 748.2894897460938, 3202.07666015625, 2402.89208984375, 1892.345458984375, 3793.600830078125, 4376.7744140625, 2924.519775390625, 4002.62451171875, 2280.221435546875, 4484.27685546875, 6051.92626953125, 2621.83642578125, 3745.627197265625, 3606.1494140625, 2512.998779296875, 1994.33837890625, 3900.67333984375, 3603.63232421875, 2667.357666015625, 2085.13525390625, 1682.410400390625, 1672.53076171875, 1656.8724365234375, 1608.2249755859375, 1517.556884765625, 1500.6103515625, 1485.3768310546875, 1401.1138916015625, 1391.26220703125, 1367.408935546875, 1342.6304931640625, 1330.4322509765625, 1308.57470703125, 1291.2548828125, 1232.1512451171875, 1138.5, 1088.996337890625, 1065.22265625, 1051.3555908203125, 1041.4783935546875, 1016.9032592773438, 986.8115234375, 969.1448364257812, 939.0386962890625, 938.3726806640625, 917.5791625976562, 2597.685791015625, 2263.857666015625, 1923.617919921875, 3732.04248046875, 2668.55224609375, 3665.548828125, 3020.884765625, 4170.4638671875, 2980.970947265625, 3119.93505859375, 2665.04736328125, 2573.07080078125, 3369.430908203125, 2282.652099609375, 2234.405029296875, 1636.872802734375, 2336.228759765625, 1752.670166015625, 1979.0711669921875, 1699.51025390625, 1532.3843994140625, 1535.748046875, 2677.642578125, 1841.176513671875, 1462.25341796875, 1311.35107421875, 1083.1429443359375, 983.5032348632812, 978.9640502929688, 952.9030151367188, 951.6154174804688, 894.4754028320312, 880.8436279296875, 744.4277954101562, 700.2354736328125, 692.9852905273438, 628.7242431640625, 626.5579833984375, 610.6768188476562, 609.9442749023438, 611.0634765625, 604.8536987304688, 590.9813842773438, 563.3230590820312, 546.4321899414062, 454.2384948730469, 436.51348876953125, 435.0415344238281, 428.4007568359375, 421.9552001953125, 421.0782165527344, 416.1795959472656, 681.8868408203125, 1501.3272705078125, 3709.73779296875, 1153.80126953125, 532.4255981445312, 1229.6312255859375, 754.8154296875, 1866.9317626953125, 877.7015991210938, 4640.26904296875, 1536.8109130859375, 1669.9237060546875, 1441.8470458984375, 1419.4947509765625, 877.833984375, 1006.2832641601562, 930.4022216796875, 1821.6727294921875, 1472.232421875, 1647.4361572265625, 1751.08251953125, 1085.666015625, 1406.37353515625, 1344.940673828125, 1287.94677734375, 1207.325439453125, 1202.5009765625, 1206.861572265625, 1153.1964111328125, 1031.030517578125, 1038.642333984375], \"Term\": [\"project\", \"development\", \"financial\", \"office\", \"legal\", \"software\", \"interested\", \"accounting\", \"russian\", \"term\", \"management\", \"design\", \"customer\", \"report\", \"excellent\", \"sale\", \"administrative\", \"program\", \"team\", \"system\", \"business\", \"responsible\", \"manager\", \"prepare\", \"november\", \"internal\", \"support\", \"marketing\", \"subject\", \"good\", \"marketing\", \"manage\", \"bank\", \"indicate\", \"audit\", \"negotiation\", \"corporate\", \"decision\", \"loan\", \"io\", \"potential\", \"promotion\", \"sense\", \"positive\", \"tourism\", \"growth\", \"investment\", \"technique\", \"evaluate\", \"commercial\", \"card\", \"advertising\", \"chain\", \"trade\", \"managerial\", \"supplier\", \"trend\", \"run\", \"analyst\", \"determine\", \"monitor\", \"responsibility\", \"manager\", \"market\", \"external\", \"review\", \"hr\", \"managing\", \"management\", \"conduct\", \"business\", \"strategy\", \"requested\", \"plan\", \"ensure\", \"line\", \"coordinate\", \"process\", \"analysis\", \"ability\", \"develop\", \"cjsc\", \"client\", \"strong\", \"service\", \"department\", \"activity\", \"short\", \"communication\", \"excellent\", \"provide\", \"team\", \"new\", \"report\", \"responsible\", \"customer\", \"sale\", \"developer\", \"c\", \"technology\", \"web\", \"testing\", \"engineer\", \"net\", \"programming\", \"java\", \"mobile\", \"sql\", \"server\", \"mentioning\", \"personality\", \"android\", \"javascript\", \"specification\", \"html\", \"understand\", \"qa\", \"cs\", \"industry\", \"kamurj\", \"graphic\", \"hardware\", \"automation\", \"functional\", \"feature\", \"software\", \"design\", \"test\", \"solution\", \"database\", \"code\", \"tool\", \"senior\", \"team\", \"development\", \"system\", \"technical\", \"competitive\", \"user\", \"based\", \"good\", \"product\", \"ability\", \"term\", \"strong\", \"new\", \"year\", \"develop\", \"remuneration\", \"full\", \"community\", \"child\", \"stakeholder\", \"capacity\", \"health\", \"world\", \"medical\", \"government\", \"adp\", \"programme\", \"national\", \"marz\", \"global\", \"donor\", \"rural\", \"vision\", \"advocacy\", \"gender\", \"care\", \"partnership\", \"collaboration\", \"giz\", \"grant\", \"healthcare\", \"funded\", \"sponsorship\", \"cp\", \"unido\", \"fao\", \"sustainable\", \"prison\", \"project\", \"consultant\", \"coordinator\", \"country\", \"sector\", \"program\", \"evaluation\", \"family\", \"implementation\", \"local\", \"development\", \"building\", \"support\", \"economic\", \"activity\", \"area\", \"international\", \"including\", \"policy\", \"education\", \"ensure\", \"staff\", \"technical\", \"relevant\", \"thinking\", \"photo\", \"platform\", \"store\", \"construction\", \"safety\", \"proper\", \"linux\", \"welcome\", \"intermediate\", \"vehicle\", \"amd\", \"n\", \"possession\", \"administrator\", \"rule\", \"driver\", \"f\", \"roaming\", \"rate\", \"communicative\", \"located\", \"metal\", \"billing\", \"ethic\", \"concerning\", \"restaurant\", \"punctual\", \"operates\", \"minute\", \"equipment\", \"eligibility\", \"open\", \"criterion\", \"preferable\", \"russian\", \"qualified\", \"interested\", \"higher\", \"period\", \"send\", \"mail\", \"term\", \"field\", \"duration\", \"listed\", \"responsible\", \"start\", \"long\", \"excellent\", \"subject\", \"remuneration\", \"computer\", \"e\", \"interview\", \"looking\", \"full\", \"good\", \"submit\", \"service\", \"education\", \"information\", \"email\", \"communication\", \"year\", \"ability\", \"financial\", \"legal\", \"accounting\", \"finance\", \"ra\", \"tax\", \"regulation\", \"law\", \"legislation\", \"uco\", \"banking\", \"credit\", \"cash\", \"republic\", \"payment\", \"accountant\", \"chief\", \"transaction\", \"lawyer\", \"statement\", \"piu\", \"labor\", \"check\", \"central\", \"ifrs\", \"expense\", \"repair\", \"p\", \"corresponding\", \"depth\", \"security\", \"risk\", \"act\", \"branch\", \"internal\", \"contract\", \"document\", \"compliance\", \"prepare\", \"report\", \"control\", \"system\", \"office\", \"year\", \"perform\", \"course\", \"medium\", \"attachment\", \"student\", \"european\", \"k\", \"mentor\", \"tumo\", \"write\", \"europe\", \"id\", \"depending\", \"school\", \"downloaded\", \"council\", \"zip\", \"class\", \"ccdspann\", \"final\", \"find\", \"converse\", \"question\", \"fundraising\", \"lot\", \"engage\", \"educational\", \"last\", \"attached\", \"range\", \"environmental\", \"study\", \"content\", \"right\", \"online\", \"expert\", \"http\", \"learning\", \"november\", \"october\", \"form\", \"following\", \"september\", \"training\", \"social\", \"material\", \"creative\", \"level\", \"group\", \"business\", \"professional\", \"research\", \"applicant\", \"assistant\", \"hotel\", \"answer\", \"osce\", \"front\", \"correspondence\", \"guest\", \"recent\", \"telephone\", \"translation\", \"intern\", \"library\", \"room\", \"distance\", \"visitor\", \"filing\", \"monday\", \"volunteer\", \"coe\", \"next\", \"exam\", \"attend\", \"rest\", \"everyone\", \"native\", \"embassy\", \"button\", \"instructor\", \"attendance\", \"teaching\", \"desk\", \"register\", \"administrative\", \"registration\", \"american\", \"inquiry\", \"registered\", \"call\", \"receive\", \"office\", \"event\", \"meeting\", \"note\", \"duty\", \"file\", \"request\", \"get\", \"task\", \"assist\", \"written\", \"relevant\", \"oral\", \"staff\", \"document\", \"apply\", \"maintain\", \"provide\", \"communication\", \"support\", \"individual\", \"including\"], \"Total\": [27949.0, 26476.0, 9529.0, 14279.0, 8410.0, 12748.0, 14107.0, 7095.0, 9676.0, 17587.0, 17339.0, 10779.0, 8707.0, 12501.0, 14571.0, 7755.0, 4353.0, 10397.0, 18587.0, 12780.0, 10871.0, 13764.0, 9725.0, 7831.0, 5746.0, 6362.0, 12042.0, 7669.0, 14077.0, 14965.0, 7669.3349609375, 6539.6767578125, 6302.4111328125, 3861.484375, 2810.205810546875, 2684.211669921875, 2372.88623046875, 2203.973876953125, 2164.30908203125, 1626.6756591796875, 1533.9005126953125, 1476.4686279296875, 1473.345703125, 1351.1107177734375, 1279.167236328125, 1214.6884765625, 1203.3656005859375, 1173.1484375, 1115.48828125, 1105.1995849609375, 1105.0714111328125, 1098.2135009765625, 1087.834228515625, 1061.7431640625, 1059.645263671875, 1014.1640625, 958.7684326171875, 949.7968139648438, 854.4168701171875, 829.1591186523438, 3262.43359375, 2905.61279296875, 9725.6435546875, 4970.7509765625, 2614.771728515625, 3478.1435546875, 6081.4873046875, 1787.935791015625, 17339.181640625, 4268.61865234375, 10871.8037109375, 3880.08203125, 2591.455810546875, 8502.9111328125, 12153.9443359375, 13184.3125, 3696.043212890625, 9208.326171875, 5458.7353515625, 26932.77734375, 10806.830078125, 8089.697265625, 5343.923828125, 10438.7060546875, 16125.59765625, 6982.0390625, 12562.740234375, 8549.1689453125, 15568.7939453125, 14571.2724609375, 10579.396484375, 18587.39453125, 7829.36474609375, 12501.93359375, 13764.7578125, 8707.4013671875, 7755.4287109375, 5975.81591796875, 5577.3515625, 5470.16796875, 5390.064453125, 3909.74853515625, 3560.18896484375, 2861.53955078125, 2859.71875, 2488.47607421875, 2281.81103515625, 2220.756103515625, 2151.587646484375, 2172.466552734375, 2107.309326171875, 2050.302490234375, 1977.308837890625, 1903.5775146484375, 1860.662109375, 1718.428466796875, 1625.086669921875, 1539.5404052734375, 1448.1845703125, 1507.277099609375, 1369.923583984375, 1300.36376953125, 1238.74609375, 1196.7984619140625, 1135.318115234375, 12748.9296875, 10779.681640625, 5720.4287109375, 4778.45166015625, 5208.22509765625, 4191.31982421875, 3768.679443359375, 4998.2880859375, 18587.39453125, 26476.384765625, 12780.275390625, 9810.2763671875, 6061.83837890625, 3341.75830078125, 7449.2060546875, 14965.02734375, 7632.38330078125, 26932.77734375, 17587.666015625, 10438.7060546875, 7829.36474609375, 15857.8525390625, 10806.830078125, 9156.0869140625, 9025.892578125, 4955.2333984375, 3796.38330078125, 3303.690673828125, 3290.9609375, 2946.5615234375, 2829.06201171875, 2828.760986328125, 2780.908447265625, 2744.374755859375, 2547.842041015625, 2537.301513671875, 2137.85791015625, 1896.730712890625, 1800.83935546875, 1625.004638671875, 1613.6142578125, 1558.593017578125, 1267.819091796875, 1198.1453857421875, 1168.18994140625, 1163.2564697265625, 1127.9327392578125, 1117.3896484375, 1119.025634765625, 1097.89111328125, 1086.8936767578125, 1101.5404052734375, 959.4501342773438, 945.158447265625, 932.2250366210938, 1003.4017333984375, 27949.953125, 3080.87646484375, 3069.839111328125, 3255.658935546875, 5258.86181640625, 10397.998046875, 2419.724853515625, 1321.9410400390625, 8433.333984375, 5276.37451171875, 26476.384765625, 3443.987060546875, 12042.9541015625, 2761.746826171875, 12562.740234375, 5184.06982421875, 9111.0791015625, 9515.9384765625, 5530.5849609375, 9694.67578125, 12153.9443359375, 7213.55615234375, 9810.2763671875, 9124.181640625, 3370.09130859375, 2925.03125, 2647.9501953125, 2467.296630859375, 2030.0546875, 1681.143310546875, 1575.3992919921875, 1555.795654296875, 1392.5079345703125, 1394.1209716796875, 1197.2318115234375, 1143.7357177734375, 1105.9541015625, 1094.3614501953125, 1075.837158203125, 944.02587890625, 877.9295043945312, 873.1988525390625, 777.8634033203125, 751.2776489257812, 727.645263671875, 700.2088623046875, 698.6240234375, 687.282470703125, 689.9260864257812, 685.3243408203125, 671.78662109375, 677.2373657226562, 673.2161254882812, 665.829833984375, 3387.989501953125, 4090.77880859375, 6069.08544921875, 4369.58203125, 1037.919189453125, 9676.96875, 7512.19921875, 14107.1630859375, 5164.73046875, 3248.040771484375, 8831.064453125, 4929.0224609375, 17587.666015625, 12433.4423828125, 12123.3876953125, 8427.416015625, 13764.7578125, 10237.2890625, 8157.11865234375, 14571.2724609375, 14077.7734375, 9156.0869140625, 7991.18505859375, 7881.65771484375, 7513.19091796875, 5669.96484375, 9025.892578125, 14965.02734375, 8367.4013671875, 16125.59765625, 9694.67578125, 13725.2666015625, 9693.341796875, 15568.7939453125, 15857.8525390625, 26932.77734375, 9529.58203125, 8410.9638671875, 7095.67529296875, 4357.7744140625, 4215.5146484375, 3384.463134765625, 3245.048583984375, 2820.1318359375, 2786.177734375, 2566.71630859375, 2218.989990234375, 2166.40576171875, 2026.5921630859375, 1893.2625732421875, 1848.8564453125, 1745.559814453125, 1746.01611328125, 1460.3377685546875, 1372.0750732421875, 1345.095458984375, 1093.1119384765625, 1045.67626953125, 1045.3919677734375, 982.1507568359375, 859.1973266601562, 859.244384765625, 843.5588989257812, 752.378173828125, 742.6637573242188, 749.099365234375, 3555.685302734375, 2616.19580078125, 2023.7349853515625, 4464.86767578125, 6362.5361328125, 3886.906982421875, 6422.197265625, 3051.063232421875, 7831.3857421875, 12501.93359375, 5595.57763671875, 12780.275390625, 14279.234375, 15857.8525390625, 6499.12939453125, 3901.47900390625, 3604.438720703125, 2668.163330078125, 2085.94091796875, 1683.21875, 1673.337158203125, 1657.6802978515625, 1609.0313720703125, 1518.3646240234375, 1501.416748046875, 1486.183349609375, 1401.923583984375, 1392.0701904296875, 1368.214599609375, 1343.4361572265625, 1331.2379150390625, 1309.38037109375, 1292.060546875, 1232.95751953125, 1139.3143310546875, 1089.802001953125, 1066.0338134765625, 1052.163818359375, 1042.304931640625, 1017.715576171875, 987.6173706054688, 969.9517822265625, 939.8450317382812, 939.1814575195312, 918.3870849609375, 2640.248046875, 2298.11572265625, 1965.173095703125, 4106.35205078125, 2879.56689453125, 4646.30712890625, 3782.666015625, 5746.83056640625, 4205.66162109375, 4654.46142578125, 3993.4404296875, 3904.01513671875, 7047.44189453125, 3982.67431640625, 4203.5888671875, 2403.062255859375, 6930.638671875, 4795.2890625, 10871.8037109375, 7131.626953125, 3792.400146484375, 4749.1591796875, 2678.4287109375, 1841.96337890625, 1463.041748046875, 1312.141357421875, 1083.9317626953125, 984.2903442382812, 979.7507934570312, 953.6897583007812, 952.4017333984375, 895.2613525390625, 881.6309814453125, 745.2203979492188, 701.0225830078125, 693.793212890625, 629.5096435546875, 627.344970703125, 611.4628295898438, 610.7330322265625, 611.8563232421875, 605.6439208984375, 591.7669677734375, 564.1134643554688, 547.2247924804688, 455.0235290527344, 437.3002014160156, 435.8279724121094, 429.18621826171875, 422.7402648925781, 421.8666076660156, 416.9664306640625, 687.4534912109375, 1583.21728515625, 4353.96826171875, 1240.67578125, 551.0826416015625, 1579.435302734375, 883.491455078125, 3133.841796875, 1107.94873046875, 14279.234375, 3367.76708984375, 4086.90771484375, 3186.080078125, 3570.8740234375, 1315.717529296875, 1774.70849609375, 1530.2874755859375, 7066.49267578125, 4501.767578125, 6670.38427734375, 9124.181640625, 2780.19287109375, 7213.55615234375, 6422.197265625, 6254.12158203125, 6567.201171875, 10579.396484375, 15568.7939453125, 12042.9541015625, 3234.123046875, 9515.9384765625], \"loglift\": [30.0, 29.0, 28.0, 27.0, 26.0, 25.0, 24.0, 23.0, 22.0, 21.0, 20.0, 19.0, 18.0, 17.0, 16.0, 15.0, 14.0, 13.0, 12.0, 11.0, 10.0, 9.0, 8.0, 7.0, 6.0, 5.0, 4.0, 3.0, 2.0, 1.0, 1.3544000387191772, 1.3544000387191772, 1.3544000387191772, 1.3543000221252441, 1.3543000221252441, 1.354200005531311, 1.354200005531311, 1.354200005531311, 1.354200005531311, 1.3539999723434448, 1.3539999723434448, 1.3539999723434448, 1.3539999723434448, 1.3538999557495117, 1.3538999557495117, 1.3538999557495117, 1.3538999557495117, 1.3538999557495117, 1.3538000583648682, 1.3538000583648682, 1.3538000583648682, 1.3538000583648682, 1.3538000583648682, 1.3538000583648682, 1.3538000583648682, 1.353700041770935, 1.353700041770935, 1.353700041770935, 1.353600025177002, 1.353600025177002, 1.3387999534606934, 1.3396999835968018, 1.30649995803833, 1.3148000240325928, 1.3299000263214111, 1.3186999559402466, 1.2964999675750732, 1.326300024986267, 1.1723999977111816, 1.239300012588501, 1.1312999725341797, 1.2246999740600586, 1.2630000114440918, 1.023300051689148, 0.9373999834060669, 0.9203000068664551, 1.1507999897003174, 0.9488999843597412, 1.0645999908447266, 0.6629999876022339, 0.8657000064849854, 0.9405999779701233, 1.0399999618530273, 0.822700023651123, 0.6531000137329102, 0.9423999786376953, 0.7208999991416931, 0.8568000197410583, 0.5026999711990356, 0.4526999890804291, 0.6195999979972839, 0.2296999990940094, 0.7127000093460083, 0.3456000089645386, 0.12280000001192093, 1.5879000425338745, 1.5879000425338745, 1.5879000425338745, 1.5879000425338745, 1.5879000425338745, 1.5879000425338745, 1.5878000259399414, 1.5878000259399414, 1.5878000259399414, 1.5878000259399414, 1.5877000093460083, 1.5877000093460083, 1.5877000093460083, 1.5877000093460083, 1.5877000093460083, 1.5875999927520752, 1.5875999927520752, 1.5875999927520752, 1.5875999927520752, 1.5875999927520752, 1.5875999927520752, 1.587499976158142, 1.587499976158142, 1.587499976158142, 1.587499976158142, 1.587399959564209, 1.587399959564209, 1.587399959564209, 1.587399959564209, 1.5872999429702759, 1.5539000034332275, 1.5081000328063965, 1.527999997138977, 1.5216000080108643, 1.488800048828125, 1.4686000347137451, 1.445099949836731, 1.3531999588012695, 1.0250999927520752, 0.926800012588501, 1.0831999778747559, 1.0817999839782715, 1.2094000577926636, 1.4002000093460083, 1.0607000589370728, 0.6420999765396118, 0.9692999720573425, 0.1842000037431717, 0.41510000824928284, 0.7023000121116638, 0.8291000127792358, 0.3382999897003174, 0.5889000296592712, 0.7053999900817871, 0.6833999752998352, 1.8645999431610107, 1.8645999431610107, 1.8645000457763672, 1.8645000457763672, 1.8645000457763672, 1.8645000457763672, 1.8645000457763672, 1.8645000457763672, 1.8645000457763672, 1.8645000457763672, 1.8645000457763672, 1.864400029182434, 1.864300012588501, 1.864300012588501, 1.864300012588501, 1.864300012588501, 1.864300012588501, 1.8640999794006348, 1.8640999794006348, 1.8640999794006348, 1.8640999794006348, 1.8640999794006348, 1.8640999794006348, 1.8640999794006348, 1.8639999628067017, 1.8639999628067017, 1.8639999628067017, 1.8638999462127686, 1.8638999462127686, 1.8638999462127686, 1.8631000518798828, 1.7009999752044678, 1.805799961090088, 1.7884999513626099, 1.7575000524520874, 1.7035000324249268, 1.5908000469207764, 1.7690999507904053, 1.8402999639511108, 1.5613000392913818, 1.541200041770935, 1.0289000272750854, 1.5779000520706177, 1.2125999927520752, 1.6166000366210938, 1.0017000436782837, 1.3590999841690063, 1.0676000118255615, 1.0305999517440796, 1.1722999811172485, 0.7793999910354614, 0.5825999975204468, 0.8989999890327454, 0.6383000016212463, 0.6771000027656555, 1.957200050354004, 1.957200050354004, 1.9571000337600708, 1.9571000337600708, 1.9570000171661377, 1.9570000171661377, 1.9569000005722046, 1.9569000005722046, 1.9569000005722046, 1.9569000005722046, 1.9567999839782715, 1.9566999673843384, 1.9566999673843384, 1.9566999673843384, 1.9566999673843384, 1.9565999507904053, 1.9565000534057617, 1.9565000534057617, 1.9564000368118286, 1.9564000368118286, 1.9563000202178955, 1.9563000202178955, 1.9563000202178955, 1.9563000202178955, 1.9563000202178955, 1.9563000202178955, 1.9563000202178955, 1.9563000202178955, 1.9562000036239624, 1.9562000036239624, 1.9395999908447266, 1.8906999826431274, 1.8560999631881714, 1.8553999662399292, 1.932800054550171, 1.798200011253357, 1.7381000518798828, 1.6719000339508057, 1.7421000003814697, 1.7617000341415405, 1.5937999486923218, 1.6717000007629395, 1.3711999654769897, 1.3981000185012817, 1.3935999870300293, 1.4572999477386475, 1.3425999879837036, 1.402899980545044, 1.4559999704360962, 1.3011000156402588, 1.289199948310852, 1.3583999872207642, 1.3967000246047974, 1.3905999660491943, 1.3961999416351318, 1.4962999820709229, 1.3177000284194946, 1.1196999549865723, 1.1878999471664429, 0.7423999905586243, 1.0846999883651733, 0.8288000226020813, 1.0561000108718872, 0.6412000060081482, 0.5383999943733215, 0.024399999529123306, 2.2376999855041504, 2.2376999855041504, 2.2376999855041504, 2.237600088119507, 2.237600088119507, 2.237499952316284, 2.237499952316284, 2.237499952316284, 2.237499952316284, 2.237499952316284, 2.2374000549316406, 2.2374000549316406, 2.2374000549316406, 2.237299919128418, 2.237299919128418, 2.237299919128418, 2.237299919128418, 2.2372000217437744, 2.2372000217437744, 2.2372000217437744, 2.236999988555908, 2.236999988555908, 2.236999988555908, 2.2369000911712646, 2.236799955368042, 2.236799955368042, 2.236799955368042, 2.2367000579833984, 2.2367000579833984, 2.2367000579833984, 2.132999897003174, 2.1526999473571777, 2.170599937438965, 2.0748000144958496, 1.8636000156402588, 1.9532999992370605, 1.7649999856948853, 1.9464999437332153, 1.6801999807357788, 1.5123000144958496, 1.479699969291687, 1.0104000568389893, 0.8615999817848206, 0.39559999108314514, 1.056399941444397, 2.4672000408172607, 2.4672000408172607, 2.467099905014038, 2.4670000076293945, 2.466900110244751, 2.466900110244751, 2.466900110244751, 2.466900110244751, 2.466900110244751, 2.466900110244751, 2.466900110244751, 2.4667999744415283, 2.4667999744415283, 2.4667999744415283, 2.4667999744415283, 2.4667999744415283, 2.4667999744415283, 2.4667999744415283, 2.4667000770568848, 2.4667000770568848, 2.4667000770568848, 2.466599941253662, 2.466599941253662, 2.466599941253662, 2.466599941253662, 2.466599941253662, 2.466599941253662, 2.4665000438690186, 2.4665000438690186, 2.4665000438690186, 2.451200008392334, 2.452399969100952, 2.446000099182129, 2.371799945831299, 2.3912999629974365, 2.230299949645996, 2.242500066757202, 2.1468000411987305, 2.123199939727783, 2.0673999786376953, 2.062999963760376, 2.05049991607666, 1.7295000553131104, 1.9107999801635742, 1.8353999853134155, 2.083400011062622, 1.3799999952316284, 1.4608999490737915, 0.7638999819755554, 1.0332000255584717, 1.5612000226974487, 1.3385000228881836, 2.9964001178741455, 2.9962000846862793, 2.9960999488830566, 2.996000051498413, 2.9958999156951904, 2.995800018310547, 2.995800018310547, 2.995800018310547, 2.995800018310547, 2.995800018310547, 2.995800018310547, 2.9955999851226807, 2.995500087738037, 2.995500087738037, 2.9953999519348145, 2.9953999519348145, 2.9953999519348145, 2.9953999519348145, 2.995300054550171, 2.995300054550171, 2.995300054550171, 2.9951999187469482, 2.9951999187469482, 2.9948999881744385, 2.994800090789795, 2.994800090789795, 2.994800090789795, 2.994800090789795, 2.994800090789795, 2.994800090789795, 2.9885001182556152, 2.94350004196167, 2.8364999294281006, 2.924099922180176, 2.9621999263763428, 2.746299982070923, 2.839200019836426, 2.4786999225616455, 2.763700008392334, 1.8725999593734741, 2.212100028991699, 2.101599931716919, 2.2037999629974365, 2.0741000175476074, 2.5920000076293945, 2.42930006980896, 2.4990999698638916, 1.6410000324249268, 1.878999948501587, 1.5981999635696411, 1.3459999561309814, 2.056299924850464, 1.3617000579833984, 1.4332000017166138, 1.4164999723434448, 1.3029999732971191, 0.8220999836921692, 0.43939998745918274, 0.6506999731063843, 1.8533999919891357, 0.7815999984741211], \"logprob\": [30.0, 29.0, 28.0, 27.0, 26.0, 25.0, 24.0, 23.0, 22.0, 21.0, 20.0, 19.0, 18.0, 17.0, 16.0, 15.0, 14.0, 13.0, 12.0, 11.0, 10.0, 9.0, 8.0, 7.0, 6.0, 5.0, 4.0, 3.0, 2.0, 1.0, -4.6321001052856445, -4.791399955749512, -4.828400135040283, -5.318399906158447, -5.636199951171875, -5.68209981918335, -5.8053998947143555, -5.879300117492676, -5.897500038146973, -6.183199882507324, -6.2418999671936035, -6.280099868774414, -6.282199859619141, -6.368899822235107, -6.423600196838379, -6.475399971008301, -6.484799861907959, -6.510200023651123, -6.5605998039245605, -6.569900035858154, -6.570000171661377, -6.576300144195557, -6.5858001708984375, -6.610099792480469, -6.611999988555908, -6.655900001525879, -6.712200164794922, -6.72160005569458, -6.827499866485596, -6.857500076293945, -5.502500057220459, -5.617400169372559, -4.442399978637695, -5.105299949645996, -5.732600212097168, -5.458600044250488, -4.921899795532227, -6.116399765014648, -3.9983999729156494, -5.333099842071533, -4.50629997253418, -5.4430999755859375, -5.808599948883057, -4.860000133514404, -4.588699817657471, -4.524400234222412, -5.5655999183654785, -4.854800224304199, -5.261899948120117, -4.067399978637695, -4.777900218963623, -4.992499828338623, -5.307799816131592, -4.855500221252441, -4.590199947357178, -5.138000011444092, -4.77209997177124, -5.021100044250488, -4.7758002281188965, -4.892000198364258, -5.045199871063232, -4.871600151062012, -5.2530999183654785, -5.152299880981445, -5.278800010681152, -4.271599769592285, -4.387400150299072, -4.648099899291992, -4.717100143432617, -4.736499786376953, -4.751299858093262, -5.072400093078613, -5.166100025177002, -5.3846001625061035, -5.385300159454346, -5.524400234222412, -5.611100196838379, -5.638199806213379, -5.669899940490723, -5.660200119018555, -5.690700054168701, -5.718100070953369, -5.75439977645874, -5.792399883270264, -5.815199851989746, -5.894800186157227, -5.9506001472473145, -6.004799842834473, -6.065999984741211, -6.026000022888184, -6.121500015258789, -6.173699855804443, -6.222300052642822, -6.256700038909912, -6.309500217437744, -3.9244000911712646, -4.138000011444092, -4.751699924468994, -4.938000202178955, -4.884699821472168, -5.122099876403809, -5.251999855041504, -5.061500072479248, -4.076099872589111, -3.82069993019104, -4.3927001953125, -4.6585001945495605, -5.01230001449585, -5.416999816894531, -4.954899787902832, -4.675899982452393, -5.02209997177124, -4.546199798583984, -4.741499900817871, -4.975900173187256, -5.1367998123168945, -4.9217000007629395, -5.054599761962891, -5.103899955749512, -5.1402997970581055, -4.558700084686279, -4.825099945068359, -4.964200019836426, -4.9679999351501465, -5.07859992980957, -5.11929988861084, -5.1194000244140625, -5.136499881744385, -5.149700164794922, -5.223999977111816, -5.2281999588012695, -5.399499893188477, -5.5192999839782715, -5.571199893951416, -5.673999786376953, -5.681000232696533, -5.715700149536133, -5.922299861907959, -5.978899955749512, -6.004199981689453, -6.008399963378906, -6.039299964904785, -6.048699855804443, -6.0472002029418945, -6.066299915313721, -6.076399803161621, -6.063000202178955, -6.201200008392334, -6.21619987487793, -6.230000019073486, -6.157299995422363, -2.992300033569336, -5.092800140380859, -5.11359977722168, -5.0858001708984375, -4.660399913787842, -4.091300010681152, -5.370999813079834, -5.904300212860107, -4.3302001953125, -4.819300174713135, -3.718600034713745, -5.209199905395508, -4.322700023651123, -5.391300201416016, -4.491300106048584, -5.019100189208984, -4.746600151062012, -4.740200042724609, -5.14109992980957, -4.972799777984619, -4.94350004196167, -5.148799896240234, -5.1020002365112305, -5.135700225830078, -4.851600170135498, -4.993299961090088, -5.092800140380859, -5.16349983215332, -5.35860013961792, -5.547299861907959, -5.612299919128418, -5.624800205230713, -5.735799789428711, -5.734600067138672, -5.88700008392334, -5.932700157165527, -5.966300010681152, -5.976900100708008, -5.993899822235107, -6.124800205230713, -6.197400093078613, -6.2027997970581055, -6.31850004196167, -6.353300094604492, -6.385300159454346, -6.423799991607666, -6.42609977722168, -6.442500114440918, -6.438600063323975, -6.445300102233887, -6.4653000831604, -6.457200050354004, -6.463200092315674, -6.4741997718811035, -4.863900184631348, -4.724299907684326, -4.3643999099731445, -4.693699836730957, -6.053699970245361, -3.9558000564575195, -4.269199848175049, -3.705199956893921, -4.639800071716309, -5.083899974822998, -4.2515997886657715, -4.756899833679199, -3.7853000164031982, -4.105299949645996, -4.135000228881836, -4.434899806976318, -4.059000015258789, -4.2947998046875, -4.468800067901611, -4.043600082397461, -4.090000152587891, -4.450900077819824, -4.548699855804443, -4.568600177764893, -4.610899925231934, -4.792300224304199, -4.505899906158447, -4.198299884796143, -4.71150016784668, -4.500899791717529, -4.667500019073486, -4.575699806213379, -4.696199893951416, -4.63730001449585, -4.721700191497803, -4.705999851226807, -3.5316998958587646, -3.6565001010894775, -3.8266000747680664, -4.314199924468994, -4.347400188446045, -4.566999912261963, -4.609099864959717, -4.749499797821045, -4.761600017547607, -4.843699932098389, -4.989299774169922, -5.013299942016602, -5.079999923706055, -5.148099899291992, -5.171800136566162, -5.229400157928467, -5.229100227355957, -5.407899856567383, -5.470200061798096, -5.490099906921387, -5.697700023651123, -5.742099761962891, -5.742300033569336, -5.804900169372559, -5.938700199127197, -5.938600063323975, -5.956999778747559, -6.071599960327148, -6.08459997177124, -6.075900077819824, -4.622200012207031, -4.909299850463867, -5.148200035095215, -4.452700138092041, -4.309700012207031, -4.712800025939941, -4.39900016784668, -4.961699962615967, -4.285399913787842, -3.985599994659424, -4.8221001625061035, -4.465400218963623, -4.503300189971924, -4.864500045776367, -5.095699787139893, -4.195199966430664, -4.274400234222412, -4.575200080871582, -4.821499824523926, -5.036099910736084, -5.041999816894531, -5.051400184631348, -5.081200122833252, -5.139200210571289, -5.1504998207092285, -5.160699844360352, -5.219099998474121, -5.226099967956543, -5.2434000968933105, -5.26170015335083, -5.2708001136779785, -5.287399768829346, -5.3007001876831055, -5.347599983215332, -5.426599979400635, -5.471099853515625, -5.493199825286865, -5.50629997253418, -5.515699863433838, -5.539599895477295, -5.5696001052856445, -5.587699890136719, -5.619200229644775, -5.619900226593018, -5.642399787902832, -4.6016998291015625, -4.739299774169922, -4.902100086212158, -4.2393999099731445, -4.57480001449585, -4.257400035858154, -4.450799942016602, -4.128300189971924, -4.464099884033203, -4.418499946594238, -4.576099872589111, -4.611199855804443, -4.341599941253662, -4.730999946594238, -4.752399921417236, -5.063600063323975, -4.707799911499023, -4.995200157165527, -4.873700141906738, -5.026000022888184, -5.129499912261963, -5.127299785614014, -4.042200088500977, -4.4166998863220215, -4.64709997177124, -4.75600004196167, -4.947199821472168, -5.043700218200684, -5.048399925231934, -5.075300216674805, -5.076700210571289, -5.138599872589111, -5.1539998054504395, -5.322199821472168, -5.383399963378906, -5.393799781799316, -5.491199970245361, -5.49459981918335, -5.520299911499023, -5.521500110626221, -5.519700050354004, -5.529900074005127, -5.553100109100342, -5.60099983215332, -5.631400108337402, -5.816199779510498, -5.855999946594238, -5.859399795532227, -5.874800205230713, -5.889999866485596, -5.892000198364258, -5.90369987487793, -5.409999847412109, -4.620699882507324, -3.716099977493286, -4.883999824523926, -5.657400131225586, -4.820400238037109, -5.3084001541137695, -4.4028000831604, -5.15749979019165, -3.492300033569336, -4.597400188446045, -4.5142998695373535, -4.661200046539307, -4.676799774169922, -5.157400131225586, -5.0208001136779785, -5.0991997718811035, -4.427299976348877, -4.6402997970581055, -4.527900218963623, -4.466899871826172, -4.944900035858154, -4.686100006103516, -4.7307000160217285, -4.77400016784668, -4.838699817657471, -4.842700004577637, -4.839099884033203, -4.8846001625061035, -4.996500015258789, -4.989200115203857]}, \"token.table\": {\"Topic\": [1, 2, 3, 4, 7, 5, 5, 1, 3, 5, 1, 3, 5, 5, 7, 4, 3, 1, 3, 4, 4, 7, 1, 2, 5, 1, 2, 7, 4, 5, 6, 7, 2, 3, 4, 5, 6, 7, 1, 2, 3, 1, 2, 3, 5, 7, 7, 6, 6, 7, 7, 1, 2, 1, 5, 1, 2, 3, 4, 6, 4, 2, 5, 1, 3, 4, 1, 2, 6, 7, 2, 4, 7, 3, 1, 3, 5, 6, 5, 1, 5, 5, 3, 1, 2, 6, 1, 2, 2, 5, 7, 3, 1, 1, 2, 3, 4, 7, 4, 3, 1, 2, 5, 1, 5, 1, 2, 3, 4, 5, 7, 4, 1, 3, 6, 4, 1, 3, 2, 6, 1, 5, 1, 4, 5, 6, 1, 3, 7, 3, 7, 1, 7, 5, 6, 3, 6, 6, 3, 2, 6, 5, 4, 6, 2, 2, 2, 3, 7, 1, 1, 2, 4, 5, 6, 5, 2, 3, 5, 7, 1, 1, 2, 3, 2, 1, 2, 3, 7, 2, 3, 5, 7, 3, 6, 4, 2, 3, 4, 5, 6, 1, 4, 5, 7, 1, 2, 3, 4, 7, 1, 3, 5, 6, 3, 4, 5, 6, 6, 4, 6, 1, 2, 4, 5, 7, 7, 6, 2, 1, 3, 5, 6, 3, 4, 4, 6, 6, 1, 1, 3, 1, 6, 7, 7, 7, 1, 2, 4, 7, 5, 1, 2, 6, 1, 5, 4, 3, 5, 3, 2, 1, 2, 3, 4, 5, 6, 2, 5, 7, 7, 6, 5, 5, 6, 2, 3, 4, 5, 6, 5, 6, 7, 2, 3, 4, 5, 2, 3, 6, 3, 6, 7, 3, 3, 2, 3, 4, 5, 3, 3, 2, 1, 3, 6, 1, 7, 2, 3, 3, 4, 5, 7, 1, 5, 2, 2, 6, 6, 5, 1, 2, 3, 1, 2, 3, 5, 7, 1, 1, 4, 6, 7, 2, 1, 2, 3, 4, 5, 6, 7, 3, 7, 7, 1, 2, 4, 6, 4, 7, 1, 5, 1, 2, 3, 5, 6, 7, 1, 2, 3, 4, 5, 7, 1, 1, 2, 2, 6, 2, 5, 6, 5, 5, 1, 6, 5, 5, 1, 2, 3, 6, 7, 7, 1, 2, 5, 4, 1, 2, 3, 4, 5, 1, 1, 3, 5, 6, 4, 1, 2, 4, 2, 4, 5, 6, 1, 2, 3, 4, 7, 1, 2, 5, 7, 1, 1, 2, 3, 1, 4, 1, 1, 3, 1, 2, 1, 3, 1, 3, 4, 6, 7, 3, 6, 1, 3, 7, 2, 6, 4, 4, 2, 7, 1, 3, 4, 3, 7, 1, 2, 1, 2, 6, 7, 1, 2, 4, 5, 6, 7, 5, 6, 5, 6, 3, 4, 5, 7, 2, 6, 4, 6, 4, 1, 2, 3, 7, 7, 5, 3, 5, 1, 2, 4, 5, 7, 4, 5, 2, 4, 5, 1, 2, 3, 6, 4, 1, 3, 5, 1, 4, 1, 4, 5, 1, 5, 7, 3, 6, 1, 2, 3, 5, 7, 1, 2, 1, 2, 3, 4, 5, 6, 7, 1, 2, 3, 6, 3, 2, 1, 2, 3, 1, 4, 1, 2, 3, 4, 5, 7, 4, 2, 1, 2, 4, 5, 6, 5, 6, 4, 4, 6, 7, 7, 5, 7, 1, 6, 7, 5, 7, 5, 1, 3, 4, 5, 7, 1, 2, 4, 5, 1, 2, 3, 5, 5, 1, 5, 7, 1, 2, 3, 1, 6, 1, 2, 1, 2, 4, 5, 7, 4, 1, 3, 5, 6, 1, 5, 4, 7, 4, 1, 3, 1, 4, 5, 4, 2, 6, 1, 3, 2, 5, 1, 2, 3, 4, 5, 1, 2, 1, 3, 5, 6, 2, 1, 2, 3, 4, 1, 2, 3, 5, 6, 3, 5, 6, 2, 5, 1, 2, 2, 3, 2, 1, 3, 7, 3, 1, 2, 3, 4, 5, 6, 5, 4, 1, 3, 1, 2, 6, 1, 6, 1, 2, 4, 5, 1, 2, 4, 5, 6, 1, 1, 2, 3, 7, 3, 1, 2, 3, 5, 1, 2, 3, 5, 7, 5, 7, 1, 2, 3, 2, 3, 4, 1, 2, 7, 1, 2, 3, 4, 5, 2, 4, 2, 4, 2, 3, 1, 1, 1, 3, 6, 5, 7, 1, 6, 5, 2, 3, 2, 7, 4, 3, 7, 7, 2, 4, 3, 6, 1, 2, 3, 7, 1, 2, 3, 4, 5, 6, 6], \"Freq\": [0.5008023977279663, 0.24564863741397858, 0.082204669713974, 0.14469358325004578, 0.02662183716893196, 0.9996792674064636, 0.9999048113822937, 0.033107101917266846, 0.0316246934235096, 0.9349049925804138, 0.5306963324546814, 0.4218824803829193, 0.04744187742471695, 0.14791104197502136, 0.8520962595939636, 0.9992218613624573, 0.9998634457588196, 0.9988950490951538, 0.9996195435523987, 0.999356746673584, 0.032662976533174515, 0.9653724431991577, 0.7483418583869934, 0.03004358895123005, 0.2214798778295517, 0.9995120763778687, 0.9993647336959839, 0.9992879629135132, 0.3535362780094147, 0.141288161277771, 0.32342568039894104, 0.1819269359111786, 0.2368038445711136, 0.05372457206249237, 0.3759121000766754, 0.1002538874745369, 0.027341969311237335, 0.20594419538974762, 0.36187782883644104, 0.03491465374827385, 0.6030011177062988, 0.14327704906463623, 0.0433163195848465, 0.25278958678245544, 0.233463853597641, 0.32698267698287964, 0.9998399615287781, 0.9991008639335632, 0.999563992023468, 0.9980261921882629, 0.9979457855224609, 0.999570906162262, 0.9993976950645447, 0.9999347925186157, 0.9995538592338562, 0.09692308306694031, 0.5901300311088562, 0.18471767008304596, 0.10685702413320541, 0.021210314705967903, 0.9981340169906616, 0.15028440952301025, 0.8497452139854431, 0.08478545397520065, 0.7505835294723511, 0.1643444001674652, 0.7999592423439026, 0.017936306074261665, 0.18203051388263702, 0.9972361326217651, 0.9999369382858276, 0.40397700667381287, 0.5957543849945068, 0.9997079968452454, 0.9990304708480835, 0.9990440607070923, 0.999707818031311, 0.9991791844367981, 0.9988283514976501, 0.9992331266403198, 0.999625027179718, 0.9994180202484131, 0.9998990297317505, 0.6610877513885498, 0.3388260304927826, 0.9997094869613647, 0.7301750779151917, 0.26965203881263733, 0.8873100280761719, 0.11237510293722153, 0.998600423336029, 0.9989198446273804, 0.9989145994186401, 0.4266226291656494, 0.1362982839345932, 0.09140078723430634, 0.26816463470458984, 0.07752688229084015, 0.9991132020950317, 0.999751091003418, 0.30436310172080994, 0.6847757697105408, 0.010722819715738297, 0.25237104296684265, 0.747280478477478, 0.05080598220229149, 0.26266440749168396, 0.04192119091749191, 0.5707538723945618, 0.0616929791867733, 0.012138375081121922, 0.9995267391204834, 0.8911548256874084, 0.049664776772260666, 0.059035491198301315, 0.9994804859161377, 0.05712660029530525, 0.9425889253616333, 0.0147947296500206, 0.985154926776886, 0.24749755859375, 0.7525263428688049, 0.3438429534435272, 0.18764819204807281, 0.4685843288898468, 0.9992640614509583, 0.8157371878623962, 0.16558247804641724, 0.018668612465262413, 0.9264329075813293, 0.07329374551773071, 0.9996265172958374, 0.9997050166130066, 0.999106228351593, 0.9996753334999084, 0.898435652256012, 0.1013619676232338, 0.9998772144317627, 0.9995093941688538, 0.3183438181877136, 0.6812141537666321, 0.9998127222061157, 0.9030612111091614, 0.09680559486150742, 0.9996489882469177, 0.9999539256095886, 0.9054908156394958, 0.0612492710351944, 0.03302468731999397, 0.99955815076828, 0.662270724773407, 0.007447680924087763, 0.11214488744735718, 0.21813112497329712, 0.9993411898612976, 0.9985324144363403, 0.9232183694839478, 0.07671840488910675, 0.007273219525814056, 0.9920670986175537, 0.998602032661438, 0.6133158206939697, 0.3681930899620056, 0.01841428130865097, 0.9998634457588196, 0.05030898377299309, 0.5161958336830139, 0.4334806203842163, 0.9988567233085632, 0.0341004803776741, 0.133287712931633, 0.623306930065155, 0.20942987501621246, 0.9995338916778564, 0.9991122484207153, 0.9989412426948547, 0.22435973584651947, 0.04264484718441963, 0.5689828991889954, 0.03794318810105324, 0.1260373741388321, 0.13638117909431458, 0.15262369811534882, 0.31308862566947937, 0.3973816931247711, 0.06534158438444138, 0.10023272037506104, 0.15428227186203003, 0.5672664642333984, 0.11279352754354477, 0.0068797036074101925, 0.7803032398223877, 0.19516633450984955, 0.017742393538355827, 0.3377111256122589, 0.4177550673484802, 0.14966978132724762, 0.09479430317878723, 0.9993748664855957, 0.9355186820030212, 0.06429093331098557, 0.1965266466140747, 0.2685348391532898, 0.406051903963089, 0.11997926235198975, 0.00897523295134306, 0.998100221157074, 0.9992969036102295, 0.9996660351753235, 0.6588807702064514, 0.27744078636169434, 0.06360074877738953, 0.9995785355567932, 0.017414458096027374, 0.9822934865951538, 0.9986577033996582, 0.999722421169281, 0.9992759227752686, 0.9995622634887695, 0.09091942757368088, 0.9087809920310974, 0.2607068717479706, 0.28297680616378784, 0.4563854932785034, 0.9977505803108215, 0.9987039566040039, 0.40579846501350403, 0.07205959409475327, 0.5187604427337646, 0.003362781135365367, 0.9985517859458923, 0.04445112869143486, 0.028476504608988762, 0.9268754720687866, 0.9756109714508057, 0.024093881249427795, 0.9986270666122437, 0.975837767124176, 0.023450365290045738, 0.9987743496894836, 0.9988389611244202, 0.17195560038089752, 0.09699647128582001, 0.0889536440372467, 0.571603536605835, 0.0566214881837368, 0.013914086855947971, 0.026601454243063927, 0.3055367171764374, 0.6673164963722229, 0.9994500875473022, 0.9992234110832214, 0.9998223185539246, 0.9999389052391052, 0.9988464117050171, 0.01602628082036972, 0.13221682608127594, 0.022787367925047874, 0.16151486337184906, 0.6673443913459778, 0.3295762538909912, 0.6703246235847473, 0.9991403818130493, 0.40472450852394104, 0.02005341835319996, 0.5274824500083923, 0.04775150865316391, 0.999332845211029, 0.9991883635520935, 0.9988938570022583, 0.9993539452552795, 0.39142972230911255, 0.6077289581298828, 0.9991730451583862, 0.9996147751808167, 0.38830533623695374, 0.09528883546590805, 0.43267545104026794, 0.08372854441404343, 0.9996733069419861, 0.999651312828064, 0.9993258118629456, 0.5849490761756897, 0.04942350462079048, 0.3655671179294586, 0.9994332194328308, 0.9992336630821228, 0.9997202754020691, 0.9998094439506531, 0.9990834593772888, 0.8062376379966736, 0.1936209499835968, 0.999476969242096, 0.9436836242675781, 0.05623624473810196, 0.9996441602706909, 0.21092019975185394, 0.789013683795929, 0.9992037415504456, 0.9986064434051514, 0.18640314042568207, 0.07529643923044205, 0.738260805606842, 0.2645035982131958, 0.14680632948875427, 0.4342188537120819, 0.04518734663724899, 0.10918523371219635, 0.9998745918273926, 0.2652960419654846, 0.052564479410648346, 0.3630041182041168, 0.3187881112098694, 0.9991820454597473, 0.2673172056674957, 0.11650046706199646, 0.09267579764127731, 0.3234909772872925, 0.09092719852924347, 0.07424263656139374, 0.034899141639471054, 0.22096504271030426, 0.7787593603134155, 0.9982488751411438, 0.06315940618515015, 0.147726371884346, 0.7516039609909058, 0.03742779418826103, 0.99919593334198, 0.9992843270301819, 0.31198251247406006, 0.6879332065582275, 0.252659410238266, 0.01328053418546915, 0.4506601095199585, 0.16408593952655792, 0.09461008757352829, 0.02469520829617977, 0.18141426146030426, 0.09077367931604385, 0.014640916138887405, 0.5704633593559265, 0.03194381669163704, 0.11073856800794601, 0.9996961951255798, 0.9995846152305603, 0.999808669090271, 0.9993380904197693, 0.9997985363006592, 0.9991527199745178, 0.999353289604187, 0.9990187287330627, 0.9995986819267273, 0.9992164373397827, 0.2011808604001999, 0.7986430525779724, 0.9998853802680969, 0.9995772838592529, 0.2910265624523163, 0.20142443478107452, 0.1431325525045395, 0.3370540738105774, 0.02727021463215351, 0.9983623623847961, 0.6477395296096802, 0.2376309037208557, 0.11460590362548828, 0.9994885921478271, 0.2730374336242676, 0.026105273514986038, 0.019934935495257378, 0.6064729690551758, 0.07451868802309036, 0.9998571872711182, 0.19236694276332855, 0.7236028909683228, 0.08092678338289261, 0.0030323851387947798, 0.9982735514640808, 0.08556943386793137, 0.3086874186992645, 0.6057285666465759, 0.358026921749115, 0.6305153965950012, 0.011287547647953033, 0.9987480044364929, 0.013390079140663147, 0.06289279460906982, 0.03550399839878082, 0.7514674663543701, 0.13653822243213654, 0.5515286922454834, 0.17815808951854706, 0.08633814752101898, 0.1837921440601349, 0.9998965263366699, 0.8334879875183105, 0.03443069010972977, 0.13207082450389862, 0.9531502723693848, 0.04678353667259216, 0.9993910789489746, 0.9720706939697266, 0.027405906468629837, 0.9610217809677124, 0.03882713243365288, 0.9999563097953796, 0.9995986819267273, 0.2086312472820282, 0.048529960215091705, 0.06090034171938896, 0.531450629234314, 0.1503477245569229, 0.9997310042381287, 0.9998782873153687, 0.23318363726139069, 0.3582170307636261, 0.4086219072341919, 0.9997852444648743, 0.9995896220207214, 0.999106764793396, 0.9987536668777466, 0.9996445775032043, 0.9992430806159973, 0.9842345714569092, 0.015325982123613358, 0.999137282371521, 0.999487042427063, 0.9993135333061218, 0.999548614025116, 0.9998114705085754, 0.5263517498970032, 0.46810948848724365, 0.005492144264280796, 0.9989367723464966, 0.06842263787984848, 0.05335710197687149, 0.07061969488859177, 0.0687365010380745, 0.2859312891960144, 0.45259377360343933, 0.27423810958862305, 0.7256173491477966, 0.2910362482070923, 0.7088064551353455, 0.15617084503173828, 0.2663308084011078, 0.25253453850746155, 0.32494738698005676, 0.09107840806245804, 0.9088358879089355, 0.9035958051681519, 0.09622537344694138, 0.9981935620307922, 0.46075940132141113, 0.08200869709253311, 0.06654214859008789, 0.3906203806400299, 0.999130129814148, 0.9994973540306091, 0.9989813566207886, 0.9995367527008057, 0.16571450233459473, 0.12447821348905563, 0.2703438997268677, 0.30681031942367554, 0.13263314962387085, 0.8223419189453125, 0.17764554917812347, 0.9993786811828613, 0.9996474385261536, 0.9989827871322632, 0.7181069850921631, 0.04563143104314804, 0.17970316112041473, 0.05656886100769043, 0.9996411800384521, 0.30611589550971985, 0.5003087520599365, 0.1934695839881897, 0.9991779327392578, 0.9996697306632996, 0.9994129538536072, 0.9759911894798279, 0.02408665418624878, 0.32152673602104187, 0.572567880153656, 0.10572841763496399, 0.9986030459403992, 0.0009966098004952073, 0.6665706634521484, 0.08937563747167587, 0.04604528471827507, 0.14888699352741241, 0.04919460788369179, 0.4613237977027893, 0.5386260151863098, 0.2589871883392334, 0.10320226103067398, 0.013320943340659142, 0.1529805213212967, 0.23038221895694733, 0.23837478458881378, 0.0026641886215656996, 0.09732642769813538, 0.05520293489098549, 0.7603386640548706, 0.08703598380088806, 0.9996694922447205, 0.9997486472129822, 0.03180685266852379, 0.11921308189630508, 0.8489817380905151, 0.999682605266571, 0.999746561050415, 0.4795169532299042, 0.09206574410200119, 0.19991688430309296, 0.032799601554870605, 0.0820462703704834, 0.11371158808469772, 0.9981729388237, 0.9993312954902649, 0.07494476437568665, 0.054577890783548355, 0.8029605746269226, 0.06735710799694061, 0.9990302324295044, 0.9998779296875, 0.9987420439720154, 0.9982993602752686, 0.1633649617433548, 0.04332330450415611, 0.7924554347991943, 0.9992767572402954, 0.051161643117666245, 0.9480695128440857, 0.08036297559738159, 0.06451675295829773, 0.8545640110969543, 0.06931706517934799, 0.9301382303237915, 0.9996768832206726, 0.18259172141551971, 0.304904043674469, 0.24155591428279877, 0.07902078330516815, 0.1919076144695282, 0.036915332078933716, 0.41371384263038635, 0.5493613481521606, 0.9993374347686768, 0.3645836114883423, 0.017677266150712967, 0.13365931808948517, 0.4840851128101349, 0.9993331432342529, 0.35329747200012207, 0.07944966852664948, 0.5668536424636841, 0.9126144647598267, 0.06868726015090942, 0.018522407859563828, 0.5956649780273438, 0.4039658010005951, 0.9853343367576599, 0.014454782009124756, 0.29175958037376404, 0.08114926517009735, 0.540728747844696, 0.08630736917257309, 0.9977617859840393, 0.9988290667533875, 0.9648825526237488, 0.03507618233561516, 0.020863302052021027, 0.9790486097335815, 0.08141592144966125, 0.9185092449188232, 0.9988900423049927, 0.9985412955284119, 0.9989132881164551, 0.9991610646247864, 0.9993817806243896, 0.11108850687742233, 0.8528497219085693, 0.03606501221656799, 0.9993199110031128, 0.9999447464942932, 0.999231219291687, 0.14889153838157654, 0.8509445786476135, 0.09927763044834137, 0.9005296230316162, 0.0793788805603981, 0.18853899836540222, 0.029554761946201324, 0.6951596736907959, 0.007360381074249744, 0.2092716544866562, 0.7906706929206848, 0.9997653365135193, 0.05968214571475983, 0.28124889731407166, 0.6590650677680969, 0.9997268915176392, 0.4958575963973999, 0.2017909735441208, 0.0056432015262544155, 0.29673320055007935, 0.6078953146934509, 0.10386974364519119, 0.04327905923128128, 0.13147476315498352, 0.11346132308244705, 0.4039998948574066, 0.02259788103401661, 0.573232889175415, 0.9664340615272522, 0.033493008464574814, 0.06403747946023941, 0.9356587529182434, 0.9996966123580933, 0.9991777539253235, 0.999659538269043, 0.4242013096809387, 0.3806721568107605, 0.19491079449653625, 0.9997909665107727, 0.022173838689923286, 0.24322845041751862, 0.015433773398399353, 0.574370801448822, 0.054213572293519974, 0.09055131673812866, 0.9991855621337891, 0.999879777431488, 0.8783319592475891, 0.12164691090583801, 0.587524950504303, 0.41240742802619934, 0.9995489120483398, 0.015907596796751022, 0.9839984774589539, 0.22723764181137085, 0.19676406681537628, 0.5125810503959656, 0.06336229294538498, 0.1954011619091034, 0.09513109177350998, 0.4632262587547302, 0.21069863438606262, 0.03549489006400108, 0.9988521933555603, 0.19098304212093353, 0.1923946589231491, 0.5208854675292969, 0.09574063122272491, 0.998685896396637, 0.032471913844347, 0.6035863757133484, 0.07081224769353867, 0.29310792684555054, 0.2728368937969208, 0.16457952558994293, 0.2395813763141632, 0.06523745507001877, 0.25783655047416687, 0.9998631477355957, 0.9976822137832642, 0.32468241453170776, 0.5695257782936096, 0.10571680963039398, 0.6027353405952454, 0.29336583614349365, 0.10387067496776581, 0.999021053314209, 0.9997864961624146, 0.9995781779289246, 0.05230938643217087, 0.3094782531261444, 0.04520213231444359, 0.5564695000648499, 0.03655971214175224, 0.9417126178741455, 0.05821242183446884, 0.9998085498809814, 0.9996761679649353, 0.8668819069862366, 0.13293781876564026, 0.9990875124931335, 0.9993000626564026, 0.23497888445854187, 0.28691262006759644, 0.478045791387558, 0.9997687339782715, 0.9985910654067993, 0.9991984963417053, 0.9993590116500854, 0.9997209310531616, 0.9997506737709045, 0.9995308518409729, 0.828904926776886, 0.1708681285381317, 0.9989711046218872, 0.9996193051338196, 0.9991903901100159, 0.998799741268158, 0.9998025298118591, 0.9996352195739746, 0.9996246099472046, 0.9997598528862, 0.46249210834503174, 0.2154298722743988, 0.0749581977725029, 0.24691231548786163, 0.17436157166957855, 0.2866087853908539, 0.11451739817857742, 0.24196214973926544, 0.15847039222717285, 0.024089012295007706, 0.9990701079368591], \"Term\": [\"ability\", \"ability\", \"ability\", \"ability\", \"ability\", \"accountant\", \"accounting\", \"act\", \"act\", \"act\", \"activity\", \"activity\", \"activity\", \"administrative\", \"administrative\", \"administrator\", \"adp\", \"advertising\", \"advocacy\", \"amd\", \"american\", \"american\", \"analysis\", \"analysis\", \"analysis\", \"analyst\", \"android\", \"answer\", \"applicant\", \"applicant\", \"applicant\", \"applicant\", \"apply\", \"apply\", \"apply\", \"apply\", \"apply\", \"apply\", \"area\", \"area\", \"area\", \"assist\", \"assist\", \"assist\", \"assist\", \"assist\", \"assistant\", \"attached\", \"attachment\", \"attend\", \"attendance\", \"audit\", \"automation\", \"bank\", \"banking\", \"based\", \"based\", \"based\", \"based\", \"based\", \"billing\", \"branch\", \"branch\", \"building\", \"building\", \"building\", \"business\", \"business\", \"business\", \"button\", \"c\", \"call\", \"call\", \"capacity\", \"card\", \"care\", \"cash\", \"ccdspann\", \"central\", \"chain\", \"check\", \"chief\", \"child\", \"cjsc\", \"cjsc\", \"class\", \"client\", \"client\", \"code\", \"code\", \"coe\", \"collaboration\", \"commercial\", \"communication\", \"communication\", \"communication\", \"communication\", \"communication\", \"communicative\", \"community\", \"competitive\", \"competitive\", \"competitive\", \"compliance\", \"compliance\", \"computer\", \"computer\", \"computer\", \"computer\", \"computer\", \"computer\", \"concerning\", \"conduct\", \"conduct\", \"conduct\", \"construction\", \"consultant\", \"consultant\", \"content\", \"content\", \"contract\", \"contract\", \"control\", \"control\", \"control\", \"converse\", \"coordinate\", \"coordinate\", \"coordinate\", \"coordinator\", \"coordinator\", \"corporate\", \"correspondence\", \"corresponding\", \"council\", \"country\", \"country\", \"course\", \"cp\", \"creative\", \"creative\", \"credit\", \"criterion\", \"criterion\", \"cs\", \"customer\", \"database\", \"database\", \"database\", \"decision\", \"department\", \"department\", \"department\", \"department\", \"depending\", \"depth\", \"design\", \"design\", \"desk\", \"desk\", \"determine\", \"develop\", \"develop\", \"develop\", \"developer\", \"development\", \"development\", \"development\", \"distance\", \"document\", \"document\", \"document\", \"document\", \"donor\", \"downloaded\", \"driver\", \"duration\", \"duration\", \"duration\", \"duration\", \"duration\", \"duty\", \"duty\", \"duty\", \"duty\", \"e\", \"e\", \"e\", \"e\", \"e\", \"economic\", \"economic\", \"economic\", \"economic\", \"education\", \"education\", \"education\", \"education\", \"educational\", \"eligibility\", \"eligibility\", \"email\", \"email\", \"email\", \"email\", \"email\", \"embassy\", \"engage\", \"engineer\", \"ensure\", \"ensure\", \"ensure\", \"environmental\", \"equipment\", \"equipment\", \"ethic\", \"europe\", \"european\", \"evaluate\", \"evaluation\", \"evaluation\", \"event\", \"event\", \"event\", \"everyone\", \"exam\", \"excellent\", \"excellent\", \"excellent\", \"excellent\", \"expense\", \"expert\", \"expert\", \"expert\", \"external\", \"external\", \"f\", \"family\", \"family\", \"fao\", \"feature\", \"field\", \"field\", \"field\", \"field\", \"field\", \"field\", \"file\", \"file\", \"file\", \"filing\", \"final\", \"finance\", \"financial\", \"find\", \"following\", \"following\", \"following\", \"following\", \"following\", \"form\", \"form\", \"front\", \"full\", \"full\", \"full\", \"full\", \"functional\", \"funded\", \"fundraising\", \"gender\", \"get\", \"get\", \"giz\", \"global\", \"good\", \"good\", \"good\", \"good\", \"government\", \"grant\", \"graphic\", \"group\", \"group\", \"group\", \"growth\", \"guest\", \"hardware\", \"health\", \"healthcare\", \"higher\", \"higher\", \"hotel\", \"hr\", \"hr\", \"html\", \"http\", \"http\", \"id\", \"ifrs\", \"implementation\", \"implementation\", \"implementation\", \"including\", \"including\", \"including\", \"including\", \"including\", \"indicate\", \"individual\", \"individual\", \"individual\", \"individual\", \"industry\", \"information\", \"information\", \"information\", \"information\", \"information\", \"information\", \"information\", \"inquiry\", \"inquiry\", \"instructor\", \"interested\", \"interested\", \"interested\", \"interested\", \"intermediate\", \"intern\", \"internal\", \"internal\", \"international\", \"international\", \"international\", \"international\", \"international\", \"international\", \"interview\", \"interview\", \"interview\", \"interview\", \"interview\", \"interview\", \"investment\", \"io\", \"java\", \"javascript\", \"k\", \"kamurj\", \"labor\", \"last\", \"law\", \"lawyer\", \"learning\", \"learning\", \"legal\", \"legislation\", \"level\", \"level\", \"level\", \"level\", \"level\", \"library\", \"line\", \"line\", \"line\", \"linux\", \"listed\", \"listed\", \"listed\", \"listed\", \"listed\", \"loan\", \"local\", \"local\", \"local\", \"local\", \"located\", \"long\", \"long\", \"long\", \"looking\", \"looking\", \"looking\", \"lot\", \"mail\", \"mail\", \"mail\", \"mail\", \"mail\", \"maintain\", \"maintain\", \"maintain\", \"maintain\", \"manage\", \"management\", \"management\", \"management\", \"manager\", \"manager\", \"managerial\", \"managing\", \"managing\", \"market\", \"market\", \"marketing\", \"marz\", \"material\", \"material\", \"material\", \"material\", \"material\", \"medical\", \"medium\", \"meeting\", \"meeting\", \"meeting\", \"mentioning\", \"mentor\", \"metal\", \"minute\", \"mobile\", \"monday\", \"monitor\", \"monitor\", \"n\", \"national\", \"native\", \"negotiation\", \"net\", \"new\", \"new\", \"new\", \"next\", \"note\", \"note\", \"note\", \"note\", \"note\", \"note\", \"november\", \"november\", \"october\", \"october\", \"office\", \"office\", \"office\", \"office\", \"online\", \"online\", \"open\", \"open\", \"operates\", \"oral\", \"oral\", \"oral\", \"oral\", \"osce\", \"p\", \"partnership\", \"payment\", \"perform\", \"perform\", \"perform\", \"perform\", \"perform\", \"period\", \"period\", \"personality\", \"photo\", \"piu\", \"plan\", \"plan\", \"plan\", \"plan\", \"platform\", \"policy\", \"policy\", \"policy\", \"positive\", \"possession\", \"potential\", \"preferable\", \"preferable\", \"prepare\", \"prepare\", \"prepare\", \"prison\", \"prison\", \"process\", \"process\", \"process\", \"process\", \"process\", \"product\", \"product\", \"professional\", \"professional\", \"professional\", \"professional\", \"professional\", \"professional\", \"professional\", \"program\", \"program\", \"program\", \"program\", \"programme\", \"programming\", \"project\", \"project\", \"project\", \"promotion\", \"proper\", \"provide\", \"provide\", \"provide\", \"provide\", \"provide\", \"provide\", \"punctual\", \"qa\", \"qualified\", \"qualified\", \"qualified\", \"qualified\", \"question\", \"ra\", \"range\", \"rate\", \"receive\", \"receive\", \"receive\", \"recent\", \"register\", \"register\", \"registered\", \"registered\", \"registered\", \"registration\", \"registration\", \"regulation\", \"relevant\", \"relevant\", \"relevant\", \"relevant\", \"relevant\", \"remuneration\", \"remuneration\", \"remuneration\", \"repair\", \"report\", \"report\", \"report\", \"report\", \"republic\", \"request\", \"request\", \"request\", \"requested\", \"requested\", \"requested\", \"research\", \"research\", \"responsibility\", \"responsibility\", \"responsible\", \"responsible\", \"responsible\", \"responsible\", \"rest\", \"restaurant\", \"review\", \"review\", \"right\", \"right\", \"risk\", \"risk\", \"roaming\", \"room\", \"rule\", \"run\", \"rural\", \"russian\", \"russian\", \"russian\", \"safety\", \"sale\", \"school\", \"sector\", \"sector\", \"security\", \"security\", \"send\", \"send\", \"send\", \"send\", \"send\", \"senior\", \"senior\", \"sense\", \"september\", \"september\", \"september\", \"server\", \"service\", \"service\", \"service\", \"service\", \"short\", \"short\", \"short\", \"short\", \"short\", \"social\", \"social\", \"social\", \"software\", \"software\", \"solution\", \"solution\", \"specification\", \"sponsorship\", \"sql\", \"staff\", \"staff\", \"staff\", \"stakeholder\", \"start\", \"start\", \"start\", \"start\", \"start\", \"start\", \"statement\", \"store\", \"strategy\", \"strategy\", \"strong\", \"strong\", \"student\", \"study\", \"study\", \"subject\", \"subject\", \"subject\", \"subject\", \"submit\", \"submit\", \"submit\", \"submit\", \"submit\", \"supplier\", \"support\", \"support\", \"support\", \"support\", \"sustainable\", \"system\", \"system\", \"system\", \"system\", \"task\", \"task\", \"task\", \"task\", \"task\", \"tax\", \"teaching\", \"team\", \"team\", \"team\", \"technical\", \"technical\", \"technical\", \"technique\", \"technology\", \"telephone\", \"term\", \"term\", \"term\", \"term\", \"term\", \"test\", \"test\", \"testing\", \"thinking\", \"tool\", \"tool\", \"tourism\", \"trade\", \"training\", \"training\", \"training\", \"transaction\", \"translation\", \"trend\", \"tumo\", \"uco\", \"understand\", \"unido\", \"user\", \"user\", \"vehicle\", \"vision\", \"visitor\", \"volunteer\", \"web\", \"welcome\", \"world\", \"write\", \"written\", \"written\", \"written\", \"written\", \"year\", \"year\", \"year\", \"year\", \"year\", \"year\", \"zip\"]}, \"R\": 30, \"lambda.step\": 0.01, \"plot.opts\": {\"xlab\": \"PC1\", \"ylab\": \"PC2\"}, \"topic.order\": [2, 5, 4, 3, 6, 1, 7]};\n",
       "\n",
       "function LDAvis_load_lib(url, callback){\n",
       "  var s = document.createElement('script');\n",
       "  s.src = url;\n",
       "  s.async = true;\n",
       "  s.onreadystatechange = s.onload = callback;\n",
       "  s.onerror = function(){console.warn(\"failed to load library \" + url);};\n",
       "  document.getElementsByTagName(\"head\")[0].appendChild(s);\n",
       "}\n",
       "\n",
       "if(typeof(LDAvis) !== \"undefined\"){\n",
       "   // already loaded: just create the visualization\n",
       "   !function(LDAvis){\n",
       "       new LDAvis(\"#\" + \"ldavis_el265212878044886221102596\", ldavis_el265212878044886221102596_data);\n",
       "   }(LDAvis);\n",
       "}else if(typeof define === \"function\" && define.amd){\n",
       "   // require.js is available: use it to load d3/LDAvis\n",
       "   require.config({paths: {d3: \"https://cdnjs.cloudflare.com/ajax/libs/d3/3.5.5/d3.min\"}});\n",
       "   require([\"d3\"], function(d3){\n",
       "      window.d3 = d3;\n",
       "      LDAvis_load_lib(\"https://cdn.rawgit.com/bmabey/pyLDAvis/files/ldavis.v1.0.0.js\", function(){\n",
       "        new LDAvis(\"#\" + \"ldavis_el265212878044886221102596\", ldavis_el265212878044886221102596_data);\n",
       "      });\n",
       "    });\n",
       "}else{\n",
       "    // require.js not available: dynamically load d3 & LDAvis\n",
       "    LDAvis_load_lib(\"https://cdnjs.cloudflare.com/ajax/libs/d3/3.5.5/d3.min.js\", function(){\n",
       "         LDAvis_load_lib(\"https://cdn.rawgit.com/bmabey/pyLDAvis/files/ldavis.v1.0.0.js\", function(){\n",
       "                 new LDAvis(\"#\" + \"ldavis_el265212878044886221102596\", ldavis_el265212878044886221102596_data);\n",
       "            })\n",
       "         });\n",
       "}\n",
       "</script>"
      ],
      "text/plain": [
       "<IPython.core.display.HTML object>"
      ]
     },
     "metadata": {},
     "output_type": "display_data"
    },
    {
     "data": {
      "text/html": [
       "<style>.container { width:90% !important; }</style>"
      ],
      "text/plain": [
       "<IPython.core.display.HTML object>"
      ]
     },
     "metadata": {},
     "output_type": "display_data"
    }
   ],
   "source": [
    "display(HTML('topic_visualization.html'))\n",
    "display(HTML(\"<style>.container { width:90% !important; }</style>\"))"
   ]
  },
  {
   "cell_type": "markdown",
   "metadata": {},
   "source": [
    "### ----------------------------------------------------------------------------------------------------------------------------"
   ]
  },
  {
   "cell_type": "markdown",
   "metadata": {},
   "source": [
    "**Observing the changes in Topics over a period of time**"
   ]
  },
  {
   "cell_type": "code",
   "execution_count": 27,
   "metadata": {},
   "outputs": [
    {
     "data": {
      "image/png": "[encoded data removed]",
      "text/plain": [
       "<Figure size 864x216 with 3 Axes>"
      ]
     },
     "metadata": {
      "needs_background": "light"
     },
     "output_type": "display_data"
    }
   ],
   "source": [
    "plt.figure(figsize=(12,3))\n",
    "\n",
    "ax1 = plt.subplot(1, 3, 1)\n",
    "sns.distplot(top_year_data.topic[top_year_data.Year.isin([2004,2005,2006,2007])], kde=False).set_title('2004 - 2007')\n",
    "\n",
    "ax2 = plt.subplot(1, 3, 2, sharey = ax1)\n",
    "sns.distplot(top_year_data.topic[top_year_data.Year.isin([2008, 2009, 2010, 2011])], kde=False).set_title('2008 - 2011')\n",
    "\n",
    "ax3 = plt.subplot(1, 3, 3, sharey = ax1)\n",
    "sns.distplot(top_year_data.topic[top_year_data.Year.isin([2012, 2013, 2014,2015])], kde=False).set_title('2012 - 2015')\n",
    "\n",
    "plt.tight_layout()\n",
    "plt.show()"
   ]
  },
  {
   "cell_type": "code",
   "execution_count": 28,
   "metadata": {},
   "outputs": [
    {
     "data": {
      "text/plain": [
       "{0: 'Education_and_Taining',\n",
       " 1: 'Business_management_and_Marketting',\n",
       " 2: 'general',\n",
       " 3: 'Project_Management',\n",
       " 4: 'Software_development',\n",
       " 5: 'Accounting_and_Finance',\n",
       " 6: 'Event_managing'}"
      ]
     },
     "execution_count": 28,
     "metadata": {},
     "output_type": "execute_result"
    }
   ],
   "source": [
    "topic_dict"
   ]
  },
  {
   "cell_type": "markdown",
   "metadata": {},
   "source": [
    "From the above plots, <br>\n",
    "There is a increasing number of job posts over the years. <br>\n",
    "The pattern remain the same for the three sections. <br>\n",
    "Business management and Marketting showing highest increase every year which was lower than Software development initially.<br>\n",
    "Event management shows declining pattern"
   ]
  },
  {
   "cell_type": "markdown",
   "metadata": {},
   "source": [
    "### ----------------------------------------------------------------------------------------------------------------------------"
   ]
  },
  {
   "cell_type": "markdown",
   "metadata": {},
   "source": [
    "## Information Extraction"
   ]
  },
  {
   "cell_type": "markdown",
   "metadata": {},
   "source": [
    "**Information extraction to extract Company profiles**"
   ]
  },
  {
   "cell_type": "code",
   "execution_count": 29,
   "metadata": {
    "scrolled": true
   },
   "outputs": [
    {
     "data": {
      "text/plain": [
       "0    mentor graphic development service cjsc subsid...\n",
       "1    international research exchange board irex u b...\n",
       "2    caucasus environmental ngo network non governm...\n",
       "3    mentor graphic development service cjsc subsid...\n",
       "4    mentor graphic development service cjsc subsid...\n",
       "Name: AboutC, dtype: object"
      ]
     },
     "execution_count": 29,
     "metadata": {},
     "output_type": "execute_result"
    }
   ],
   "source": [
    "data['AboutC'].head() #AboutC gives the description of the company"
   ]
  },
  {
   "cell_type": "code",
   "execution_count": 30,
   "metadata": {},
   "outputs": [],
   "source": [
    "from spacy.matcher import Matcher"
   ]
  },
  {
   "cell_type": "code",
   "execution_count": 31,
   "metadata": {},
   "outputs": [],
   "source": [
    "nlp = spacy.load('en_core_web_sm')\n",
    "matcher = Matcher(nlp.vocab)"
   ]
  },
  {
   "cell_type": "code",
   "execution_count": 32,
   "metadata": {},
   "outputs": [],
   "source": [
    "def collect_sents(matcher, doc, i, matches):\n",
    "    match_id, start, end = matches[i]\n",
    "    span = doc[start : end]  # matched span\n",
    "    sent = span.sent  # sentence containing matched span\n",
    "    match_ents = [{'start': span.start_char - sent.start_char,\n",
    "                   'end': span.end_char - sent.start_char,\n",
    "                   'label': 'MATCH'}]\n",
    "    matched_sents.append({'text': sent.text, 'ents': match_ents })"
   ]
  },
  {
   "cell_type": "code",
   "execution_count": 33,
   "metadata": {},
   "outputs": [],
   "source": [
    "pattern1 = [{'POS':'ADJ'},{'ORTH': '-'}, {'POS':'NOUN', 'OP':'+'}, {'LOWER': 'organization'}]\n",
    "pattern2 = [{'POS':'NOUN', 'OP':'+'}, {'LOWER': 'organization'}]\n",
    "pattern3 = [{'POS':'NOUN', 'OP':'+'}, {'LOWER': 'company'}]\n",
    "pattern4 = [{'POS':'NOUN', 'OP':'+'}, {'LOWER': 'services'}]\n",
    "pattern5 = [{'LOWER': 'company'}, {'POS':'VERB'}, {'POS':'NOUN', 'OP':'+'}]\n",
    "pattern6 = [{'LOWER':'provider'}, {'POS':'ADP'}, {'POS':'NOUN',  'OP': '+'}  , {'POS':'CCONJ','OP':'+'}, {'POS':'NOUN','OP':'+'}]\n",
    "pattern7 = [{'LOWER':'provider'}, {'POS':'ADP'}, {'POS':'NOUN',  'OP': '+'}]\n",
    "pattern8 = [{'POS':'VERB'}, {'POS':'NOUN',  'OP': '+'} ]\n",
    "pattern9 = [{'POS':'ADJ'}, {'POS':'NOUN',  'OP': '+'} ]\n",
    "pattern10 = [{'POS':'NOUN'}, {'POS':'ADP'}, {'POS':'NOUN',  'OP': '+'} ]\n",
    "pattern11 = [{'POS':'NOUN'}, {'POS':'NOUN','OP':'+'}]"
   ]
  },
  {
   "cell_type": "raw",
   "metadata": {},
   "source": [
    "matcher.add('all', collect_sents, pattern1, pattern2, pattern3, pattern4, pattern5, pattern6, pattern7, pattern8, pattern9, pattern10, pattern11)"
   ]
  },
  {
   "cell_type": "raw",
   "metadata": {},
   "source": [
    "matched_sents=[]\n",
    "for t in data.AboutC:\n",
    "    if pd.notnull(t) and t != 'NaN':\n",
    "        t = re.sub(r'\\s+', ' ', t)\n",
    "        doc = nlp(t)\n",
    "        matches = matcher(doc)\n",
    "        token_set = []\n",
    "        for match_id, start, end in matches:\n",
    "            string_id = nlp.vocab.strings[match_id]  # get string representation\n",
    "            span = doc[start:end]  # the matched span\n",
    "            token_set.append(span.text)    \n",
    "        matched_sents.append(token_set)"
   ]
  },
  {
   "cell_type": "raw",
   "metadata": {},
   "source": [
    "flat_list = []\n",
    "for row in matched_sents:\n",
    "    for token in row:\n",
    "        flat_list.append(token)"
   ]
  },
  {
   "cell_type": "raw",
   "metadata": {},
   "source": [
    "fd = nltk.FreqDist(flat_list) "
   ]
  },
  {
   "cell_type": "code",
   "execution_count": 34,
   "metadata": {},
   "outputs": [],
   "source": [
    "pkl_filename = \"company_fd.pkl\""
   ]
  },
  {
   "cell_type": "raw",
   "metadata": {},
   "source": [
    "# Saving as pickle\n",
    "with open(pkl_filename, 'wb') as file:\n",
    "    pickle.dump(fd, file)"
   ]
  },
  {
   "cell_type": "code",
   "execution_count": 35,
   "metadata": {},
   "outputs": [],
   "source": [
    "# Load from file\n",
    "with open(pkl_filename, 'rb') as file:\n",
    "    fd = pickle.load(file)"
   ]
  },
  {
   "cell_type": "code",
   "execution_count": 36,
   "metadata": {},
   "outputs": [
    {
     "data": {
      "image/png": "[encoded data removed]",
      "text/plain": [
       "<Figure size 720x360 with 1 Axes>"
      ]
     },
     "metadata": {
      "needs_background": "light"
     },
     "output_type": "display_data"
    },
    {
     "data": {
      "text/plain": [
       "<Figure size 432x288 with 0 Axes>"
      ]
     },
     "metadata": {},
     "output_type": "display_data"
    }
   ],
   "source": [
    "plt.figure(figsize=(10, 5))\n",
    "fd.most_common(50)\n",
    "fd.plot(30)\n",
    "plt.tight_layout()"
   ]
  },
  {
   "cell_type": "code",
   "execution_count": 37,
   "metadata": {},
   "outputs": [
    {
     "data": {
      "text/plain": [
       "[('text', 165698),\n",
       " ('ents', 165698),\n",
       " ('design automation', 6835),\n",
       " ('world vision', 564),\n",
       " ('additional information', 558),\n",
       " ('software development', 512),\n",
       " ('telecommunication operator', 257),\n",
       " ('software service', 245),\n",
       " ('financial service', 244),\n",
       " ('providing service', 240),\n",
       " ('equal opportunity', 236),\n",
       " ('web site', 221),\n",
       " ('civil society', 220),\n",
       " ('mobile telecommunication', 220),\n",
       " ('continent world', 217),\n",
       " ('operator mobile', 216),\n",
       " ('operator mobile telecommunication', 216),\n",
       " ('com information', 215),\n",
       " ('provides service', 206),\n",
       " ('lasting change', 204),\n",
       " ('long term', 199),\n",
       " ('study material', 197),\n",
       " ('visit beeline', 195),\n",
       " ('final level', 194),\n",
       " ('global service', 186),\n",
       " ('quality life', 185),\n",
       " ('child family', 178),\n",
       " ('service partner', 178),\n",
       " ('virtual solution', 177),\n",
       " ('provides service partner', 176)]"
      ]
     },
     "execution_count": 37,
     "metadata": {},
     "output_type": "execute_result"
    }
   ],
   "source": [
    "fd.most_common(30)"
   ]
  },
  {
   "cell_type": "markdown",
   "metadata": {},
   "source": [
    "The above are the most common company profile."
   ]
  },
  {
   "cell_type": "markdown",
   "metadata": {},
   "source": [
    "### ----------------------------------------------------------------------------------------------------------------------------"
   ]
  },
  {
   "cell_type": "markdown",
   "metadata": {},
   "source": [
    "### Job Similarity"
   ]
  },
  {
   "cell_type": "markdown",
   "metadata": {},
   "source": [
    "To identify the job similarity between jobs, four columns were selected. Title, RequiredQual, JobDescription and JobRequiement"
   ]
  },
  {
   "cell_type": "code",
   "execution_count": 38,
   "metadata": {},
   "outputs": [
    {
     "data": {
      "text/plain": [
       "8013"
      ]
     },
     "execution_count": 38,
     "metadata": {},
     "output_type": "execute_result"
    }
   ],
   "source": [
    "len(data.Title.unique())"
   ]
  },
  {
   "cell_type": "code",
   "execution_count": 39,
   "metadata": {},
   "outputs": [],
   "source": [
    "data['JobDescription_token'] = data['JobDescription'].map(word_tokenize)\n",
    "data['RequiredQual_token'] = data['RequiredQual'].map(word_tokenize)\n",
    "data['JobRequirment_token'] = data['JobRequirment'].map(word_tokenize)"
   ]
  },
  {
   "cell_type": "markdown",
   "metadata": {},
   "source": [
    "**Using the TF-IDF vectorizer**"
   ]
  },
  {
   "cell_type": "code",
   "execution_count": 40,
   "metadata": {},
   "outputs": [],
   "source": [
    "tv = TfidfVectorizer()\n",
    "Title_tv = tv.fit_transform(data['Title'])\n",
    "JobDescription_tv = tv.fit_transform(data['JobDescription'])\n",
    "RequiredQual_tv = tv.fit_transform(data['RequiredQual'])\n",
    "JobRequirment_tv = tv.fit_transform(data['JobRequirment'])"
   ]
  },
  {
   "cell_type": "markdown",
   "metadata": {},
   "source": [
    "Function for finding the 5 most similar jobs for given job using cosine similarity metrics"
   ]
  },
  {
   "cell_type": "code",
   "execution_count": 41,
   "metadata": {},
   "outputs": [],
   "source": [
    "def find_similar_jobs_tv(index, top_n = 5):\n",
    "    Title_tv_cosine = cosine_similarity(Title_tv[index:index+1], Title_tv).flatten()\n",
    "    JobDescription_tv_cosine = cosine_similarity(JobDescription_tv[index:index+1], JobDescription_tv).flatten()\n",
    "    RequiredQual_tv_cosine = cosine_similarity(RequiredQual_tv[index:index+1], RequiredQual_tv).flatten()\n",
    "    JobRequirment_tv_cosine = cosine_similarity(JobRequirment_tv[index:index+1], JobRequirment_tv).flatten()\n",
    "\n",
    "    average_cosine = (Title_tv_cosine +JobDescription_tv_cosine+RequiredQual_tv_cosine+JobRequirment_tv_cosine)/4.0\n",
    "    related_docs_indices = [i for i in average_cosine.argsort()[::-1] if i != index]\n",
    "    return [(index, average_cosine[index]) for index in related_docs_indices][0:top_n]"
   ]
  },
  {
   "cell_type": "code",
   "execution_count": 42,
   "metadata": {},
   "outputs": [],
   "source": [
    "def printmd(string):\n",
    "    string = '_'+string+'_'\n",
    "    display(Markdown(string))"
   ]
  },
  {
   "cell_type": "markdown",
   "metadata": {},
   "source": [
    "Chief financial officer"
   ]
  },
  {
   "cell_type": "code",
   "execution_count": 43,
   "metadata": {
    "scrolled": true
   },
   "outputs": [
    {
     "data": {
      "text/plain": [
       "'chief financial officer'"
      ]
     },
     "execution_count": 43,
     "metadata": {},
     "output_type": "execute_result"
    }
   ],
   "source": [
    "data.iloc[0].Title"
   ]
  },
  {
   "cell_type": "code",
   "execution_count": 44,
   "metadata": {},
   "outputs": [
    {
     "data": {
      "text/markdown": [
       "_chief financial officer_"
      ],
      "text/plain": [
       "<IPython.core.display.Markdown object>"
      ]
     },
     "metadata": {},
     "output_type": "display_data"
    },
    {
     "name": "stdout",
     "output_type": "stream",
     "text": [
      "organization implementation south road corridor investment program snc\n",
      "SIMILARITY SCORE:  0.4477077954056993\n",
      "----------------------------------------------------------------\n"
     ]
    },
    {
     "data": {
      "text/markdown": [
       "_chief financial officer_"
      ],
      "text/plain": [
       "<IPython.core.display.Markdown object>"
      ]
     },
     "metadata": {},
     "output_type": "display_data"
    },
    {
     "name": "stdout",
     "output_type": "stream",
     "text": [
      "river island chief financial officer yerevan description river island \n",
      "SIMILARITY SCORE:  0.44268817852443193\n",
      "----------------------------------------------------------------\n"
     ]
    },
    {
     "data": {
      "text/markdown": [
       "_chief financial officer_"
      ],
      "text/plain": [
       "<IPython.core.display.Markdown object>"
      ]
     },
     "metadata": {},
     "output_type": "display_data"
    },
    {
     "name": "stdout",
     "output_type": "stream",
     "text": [
      "gritti chief financial officer term full time start time asap duration\n",
      "SIMILARITY SCORE:  0.44216005761454513\n",
      "----------------------------------------------------------------\n"
     ]
    }
   ],
   "source": [
    "for index, score in find_similar_jobs_tv(0,3):\n",
    "    printmd(data.iloc[index].Title)\n",
    "    print(data.iloc[index].jobpost[:70])\n",
    "    print(\"SIMILARITY SCORE: \", score)\n",
    "    print(\"----------------------------------------------------------------\")"
   ]
  },
  {
   "cell_type": "markdown",
   "metadata": {},
   "source": [
    "Internship"
   ]
  },
  {
   "cell_type": "code",
   "execution_count": 45,
   "metadata": {},
   "outputs": [
    {
     "data": {
      "text/plain": [
       "'full time community connection intern paid internship'"
      ]
     },
     "execution_count": 45,
     "metadata": {},
     "output_type": "execute_result"
    }
   ],
   "source": [
    "data.iloc[1].Title"
   ]
  },
  {
   "cell_type": "code",
   "execution_count": 46,
   "metadata": {},
   "outputs": [
    {
     "data": {
      "text/markdown": [
       "_teacher full time_"
      ],
      "text/plain": [
       "<IPython.core.display.Markdown object>"
      ]
     },
     "metadata": {},
     "output_type": "display_data"
    },
    {
     "name": "stdout",
     "output_type": "stream",
     "text": [
      "military institute mod ra full time yerevan degree computer science information \n",
      "SIMILARITY SCORE:  0.6824664284763577\n",
      "----------------------------------------------------------------\n"
     ]
    },
    {
     "data": {
      "text/markdown": [
       "_non paid part full time administrative intern_"
      ],
      "text/plain": [
       "<IPython.core.display.Markdown object>"
      ]
     },
     "metadata": {},
     "output_type": "display_data"
    },
    {
     "name": "stdout",
     "output_type": "stream",
     "text": [
      "international research exchange board irex non paid part full time administrativ\n",
      "SIMILARITY SCORE:  0.67663381892011\n",
      "----------------------------------------------------------------\n"
     ]
    },
    {
     "data": {
      "text/markdown": [
       "_non paid part full time programmatic intern_"
      ],
      "text/plain": [
       "<IPython.core.display.Markdown object>"
      ]
     },
     "metadata": {},
     "output_type": "display_data"
    },
    {
     "name": "stdout",
     "output_type": "stream",
     "text": [
      "international research exchange board irex non paid part full time programmatic \n",
      "SIMILARITY SCORE:  0.665398959778587\n",
      "----------------------------------------------------------------\n"
     ]
    }
   ],
   "source": [
    "for index, score in find_similar_jobs_tv(1,3):\n",
    "    printmd(data.iloc[index].Title)\n",
    "    print(data.iloc[index].jobpost[:80])\n",
    "    print(\"SIMILARITY SCORE: \", score)\n",
    "    print(\"----------------------------------------------------------------\")"
   ]
  },
  {
   "cell_type": "markdown",
   "metadata": {},
   "source": [
    "Software developer "
   ]
  },
  {
   "cell_type": "code",
   "execution_count": 47,
   "metadata": {
    "scrolled": true
   },
   "outputs": [
    {
     "data": {
      "text/plain": [
       "'software developer'"
      ]
     },
     "execution_count": 47,
     "metadata": {},
     "output_type": "execute_result"
    }
   ],
   "source": [
    "data.iloc[4].Title"
   ]
  },
  {
   "cell_type": "code",
   "execution_count": 48,
   "metadata": {},
   "outputs": [
    {
     "data": {
      "text/markdown": [
       "_software developer_"
      ],
      "text/plain": [
       "<IPython.core.display.Markdown object>"
      ]
     },
     "metadata": {},
     "output_type": "display_data"
    },
    {
     "name": "stdout",
     "output_type": "stream",
     "text": [
      "converse bank cjsc software developer yerevan description design develop softwar\n",
      "SIMILARITY SCORE:  0.5760695155473291\n",
      "hello\n",
      "----------------------------------------------------------------\n"
     ]
    },
    {
     "data": {
      "text/markdown": [
       "_software developer_"
      ],
      "text/plain": [
       "<IPython.core.display.Markdown object>"
      ]
     },
     "metadata": {},
     "output_type": "display_data"
    },
    {
     "name": "stdout",
     "output_type": "stream",
     "text": [
      "converse bank cjsc software developer yerevan description develop implement new \n",
      "SIMILARITY SCORE:  0.5737643542416898\n",
      "hello\n",
      "----------------------------------------------------------------\n"
     ]
    },
    {
     "data": {
      "text/markdown": [
       "_software developer_"
      ],
      "text/plain": [
       "<IPython.core.display.Markdown object>"
      ]
     },
     "metadata": {},
     "output_type": "display_data"
    },
    {
     "name": "stdout",
     "output_type": "stream",
     "text": [
      "cascade capital holding cjsc software developer yerevan description develop data\n",
      "SIMILARITY SCORE:  0.5656704358968097\n",
      "hello\n",
      "----------------------------------------------------------------\n"
     ]
    }
   ],
   "source": [
    "for index, score in find_similar_jobs_tv(4,3):\n",
    "    printmd(data.iloc[index].Title)\n",
    "    print(data.iloc[index].jobpost[:80])\n",
    "    print(\"SIMILARITY SCORE: \", score)\n",
    "    print('''hello''')\n",
    "    print(\"----------------------------------------------------------------\")"
   ]
  },
  {
   "cell_type": "markdown",
   "metadata": {},
   "source": [
    "Accountant"
   ]
  },
  {
   "cell_type": "code",
   "execution_count": 49,
   "metadata": {
    "scrolled": true
   },
   "outputs": [
    {
     "data": {
      "text/plain": [
       "'chief accountant finance assistant'"
      ]
     },
     "execution_count": 49,
     "metadata": {},
     "output_type": "execute_result"
    }
   ],
   "source": [
    "data.iloc[6].Title"
   ]
  },
  {
   "cell_type": "code",
   "execution_count": 50,
   "metadata": {},
   "outputs": [
    {
     "data": {
      "text/markdown": [
       "_chief accountant_"
      ],
      "text/plain": [
       "<IPython.core.display.Markdown object>"
      ]
     },
     "metadata": {},
     "output_type": "display_data"
    },
    {
     "name": "stdout",
     "output_type": "stream",
     "text": [
      "moscow state university economics statistic information chief accountant term fu\n",
      "SIMILARITY SCORE:  0.5551694415320927\n",
      "----------------------------------------------------------------\n"
     ]
    },
    {
     "data": {
      "text/markdown": [
       "_chief accountant_"
      ],
      "text/plain": [
       "<IPython.core.display.Markdown object>"
      ]
     },
     "metadata": {},
     "output_type": "display_data"
    },
    {
     "name": "stdout",
     "output_type": "stream",
     "text": [
      "doubletree hilton hotel yerevan chief accountant term full time duration long te\n",
      "SIMILARITY SCORE:  0.5516590377191786\n",
      "----------------------------------------------------------------\n"
     ]
    },
    {
     "data": {
      "text/markdown": [
       "_chief accountant assistant_"
      ],
      "text/plain": [
       "<IPython.core.display.Markdown object>"
      ]
     },
     "metadata": {},
     "output_type": "display_data"
    },
    {
     "name": "stdout",
     "output_type": "stream",
     "text": [
      "caparol georgia ltd chief accountant assistant tbilisi georgia description board\n",
      "SIMILARITY SCORE:  0.5457632645048219\n",
      "----------------------------------------------------------------\n"
     ]
    }
   ],
   "source": [
    "for index, score in find_similar_jobs_tv(6,3):\n",
    "    printmd(data.iloc[index].Title)\n",
    "    print(data.iloc[index].jobpost[:80])\n",
    "    print(\"SIMILARITY SCORE: \", score)\n",
    "    print(\"----------------------------------------------------------------\")"
   ]
  },
  {
   "cell_type": "markdown",
   "metadata": {},
   "source": [
    "### ----------------------------------------------------------------------------------------------------------------------------"
   ]
  },
  {
   "cell_type": "markdown",
   "metadata": {},
   "source": [
    "### Findings & Recommendation<br>\n",
    "This text mining project shows that by carefully pre-processing the various job ads posts and the\n",
    "unstructured data, we can gain valuable insights about the Armenian labour market.<br>\n",
    "\n",
    "By using **K-Means clustering**, we created an understanding of the required\n",
    "qualifications and skillset in the Armenia labour market over the 10-year period from 2004 to 2015. We can clearly see that Management and communication skills are in constant high demand over the period and IT related skills have increased over the period.<br>\n",
    "\n",
    "With the application of **LDA statistical model** on the full text of the job post with tuned parameters, we are able to show the main job \"topics\" of the online job ads. And by counting the\n",
    "frequency of the job post topics, we revealed that the greatest number of job posting are related to\n",
    "Sales and Marketing with Software development in second place. Plotting the results over the 10-year\n",
    "period show clearly that software development jobs postings have the strongest growth.<br>\n",
    "\n",
    "Using **pattern matching rules** on the company's description, we are able to get a feel of the type of companies that were posting on the job marketplace. This information can be used to supplement the\n",
    "findings to get a better picture of the job market.<br>\n",
    "\n",
    "In addition to understanding the dynamics of the Armenia labour market, we can perform advanced\n",
    "text analytics to provide added value to the Armenian job portal. We have demonstrated that we are\n",
    "also able to train good classification model to enhance the job portal, automatically classifying if the job posting is IT related. Also, by implementing **job similarity** search via cosine similarity between the text columns embeddings, we are able to create a useful feature that job seekers can use to find similar jobs in the job portal that he/she can apply to.<br>"
   ]
  },
  {
   "cell_type": "markdown",
   "metadata": {},
   "source": [
    "### ======================================================================"
   ]
  }
 ],
 "metadata": {
  "kernelspec": {
   "display_name": "Python 3",
   "language": "python",
   "name": "python3"
  },
  "language_info": {
   "codemirror_mode": {
    "name": "ipython",
    "version": 3
   },
   "file_extension": ".py",
   "mimetype": "text/x-python",
   "name": "python",
   "nbconvert_exporter": "python",
   "pygments_lexer": "ipython3",
   "version": "3.7.4"
  }
 },
 "nbformat": 4,
 "nbformat_minor": 2
}
